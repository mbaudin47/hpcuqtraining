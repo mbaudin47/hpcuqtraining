{
 "cells": [
  {
   "cell_type": "code",
   "execution_count": null,
   "metadata": {},
   "outputs": [],
   "source": [
    "%pylab inline"
   ]
  },
  {
   "cell_type": "code",
   "execution_count": null,
   "metadata": {},
   "outputs": [],
   "source": [
    "from numpy import array\n",
    "import openturns as ot\n",
    "from openturns.viewer import View\n",
    "# set seed for random number generator to assure the reproducibility of the analysis\n",
    "ot.RandomGenerator.SetSeed(1)\n",
    "# set command to call R from within the python script\n",
    "ot.ResourceMap.Set('R-executable-command', 'R')"
   ]
  },
  {
   "cell_type": "markdown",
   "metadata": {},
   "source": [
    "# Step A - Model definition"
   ]
  },
  {
   "cell_type": "code",
   "execution_count": null,
   "metadata": {},
   "outputs": [],
   "source": [
    "dim = 4\n",
    "model = ot.SymbolicFunction([\"E\", \"F\", \"L\", \"I\"], [\"F*L^3/(3*E*I)\"])"
   ]
  },
  {
   "cell_type": "markdown",
   "metadata": {},
   "source": [
    "# Step B - Modelling of the input uncertainty"
   ]
  },
  {
   "cell_type": "markdown",
   "metadata": {},
   "source": [
    "We first define the marginal distributions"
   ]
  },
  {
   "cell_type": "code",
   "execution_count": null,
   "metadata": {},
   "outputs": [],
   "source": [
    "# Young's modulus E: data-based kernel distribution\n",
    "kernel = ot.KernelSmoothing()\n",
    "sample = ot.Sample.ImportFromCSVFile(\"sample_E.csv\")  # in Pa\n",
    "dist_E = kernel.build(sample)\n",
    "\n",
    "# Load F: lognormal\n",
    "F_para = ot.LogNormalMuSigma(3e4, 9e3, 15e3) # in N\n",
    "dist_F = ot.ParametrizedDistribution(F_para)\n",
    "\n",
    "# Length L: uniform\n",
    "dist_L = ot.Uniform(250, 260) # in cm\n",
    "\n",
    "# Moment of inertia I: beta\n",
    "dist_I = ot.Beta(2.5, 4, 310., 450.) # in cm^4\n",
    "#dist_E.computeQuantile(0.5)"
   ]
  },
  {
   "cell_type": "markdown",
   "metadata": {},
   "source": [
    "Draw the CDF of the parameters, e.g. the Young's modulus E"
   ]
  },
  {
   "cell_type": "code",
   "execution_count": null,
   "metadata": {},
   "outputs": [],
   "source": [
    "graph = dist_E.drawCDF()\n",
    "graph.setLegends(['E'])\n",
    "graph.setTitle('')\n",
    "graph.setXTitle('E')\n",
    "View(graph).show()"
   ]
  },
  {
   "cell_type": "code",
   "execution_count": null,
   "metadata": {},
   "outputs": [],
   "source": [
    "graph = dist_F.drawCDF()\n",
    "graph.setLegends(['F'])\n",
    "graph.setTitle('')\n",
    "graph.setXTitle('F')\n",
    "View(graph).show()"
   ]
  },
  {
   "cell_type": "markdown",
   "metadata": {},
   "source": [
    "Then we specify the copula: a Gaussian copula is assumed"
   ]
  },
  {
   "cell_type": "code",
   "execution_count": null,
   "metadata": {},
   "outputs": [],
   "source": [
    "R = ot.CorrelationMatrix(dim)\n",
    "R[2,3] = -.2 # specify the correlation between variables IFF necessary, otherwise the standard correlation matrix is a unit matrix\n",
    "myCopula = ot.NormalCopula(ot.NormalCopula.GetCorrelationFromSpearmanCorrelation(R)) # be sure to introduce the Pearson correlation matrix"
   ]
  },
  {
   "cell_type": "markdown",
   "metadata": {},
   "source": [
    "Lastly we gather the marginals and the copula to create the joint distribution of the inputs"
   ]
  },
  {
   "cell_type": "code",
   "execution_count": null,
   "metadata": {},
   "outputs": [],
   "source": [
    "myDistribution = ot.ComposedDistribution([dist_E, dist_F, dist_L, dist_I], myCopula)\n",
    "# generate a set of values of the random parameters\n",
    "X = myDistribution.getSample(10)"
   ]
  },
  {
   "cell_type": "markdown",
   "metadata": {},
   "source": [
    "# Step C - Uncertainty propagation based on polynomial chaos"
   ]
  },
  {
   "cell_type": "markdown",
   "metadata": {},
   "source": [
    "## Construct the polynomial chaos approximation"
   ]
  },
  {
   "cell_type": "markdown",
   "metadata": {},
   "source": [
    "The types of 1D polynomial families are defined"
   ]
  },
  {
   "cell_type": "code",
   "execution_count": null,
   "metadata": {},
   "outputs": [],
   "source": [
    "polyColl = ot.PolynomialFamilyCollection(dim)\n",
    "polyColl[0] = ot.StandardDistributionPolynomialFactory(dist_E)\n",
    "polyColl[1] = ot.LaguerreFactory() # beware of ad-hoc polynomials with the lognormal distribution\n",
    "polyColl[2] = ot.StandardDistributionPolynomialFactory(dist_L)\n",
    "polyColl[3] = ot.StandardDistributionPolynomialFactory(dist_I)"
   ]
  },
  {
   "cell_type": "markdown",
   "metadata": {},
   "source": [
    "Define the strategy for enumerating the elements of the multivariate tensorized basis"
   ]
  },
  {
   "cell_type": "code",
   "execution_count": null,
   "metadata": {},
   "outputs": [],
   "source": [
    "enumerateFunction = ot.LinearEnumerateFunction(dim)"
   ]
  },
  {
   "cell_type": "markdown",
   "metadata": {},
   "source": [
    "Determine the number of elements to be retained in the chaos series"
   ]
  },
  {
   "cell_type": "code",
   "execution_count": null,
   "metadata": {},
   "outputs": [],
   "source": [
    "p = 7 # total degree, integer\n",
    "P = enumerateFunction.getStrataCumulatedCardinal(p) # number of chaos terms"
   ]
  },
  {
   "cell_type": "markdown",
   "metadata": {},
   "source": [
    "Define the multivariate basis"
   ]
  },
  {
   "cell_type": "code",
   "execution_count": null,
   "metadata": {},
   "outputs": [],
   "source": [
    "multivariateBasis = ot.OrthogonalProductPolynomialFactory(polyColl, enumerateFunction)"
   ]
  },
  {
   "cell_type": "markdown",
   "metadata": {},
   "source": [
    "Specify the strategy for computing the chaos coefficients: sparse least squares (based on Least Angle Regression)"
   ]
  },
  {
   "cell_type": "code",
   "execution_count": null,
   "metadata": {},
   "outputs": [],
   "source": [
    "basisSequenceFactory = ot.LARS()\n",
    "fittingAlgorithm = ot.CorrectedLeaveOneOut()\n",
    "approximationAlgorithm = ot.LeastSquaresMetaModelSelectionFactory(basisSequenceFactory, fittingAlgorithm)\n",
    "N = 500 # size of the experimental design\n",
    "evalStrategy = ot.LeastSquaresStrategy(ot.MonteCarloExperiment(N), approximationAlgorithm) # Monte Carlo design\n",
    "truncatureBasisStrategy = ot.FixedStrategy(multivariateBasis, P)"
   ]
  },
  {
   "cell_type": "markdown",
   "metadata": {},
   "source": [
    "Construct the chaos metamodel"
   ]
  },
  {
   "cell_type": "code",
   "execution_count": null,
   "metadata": {},
   "outputs": [],
   "source": [
    "polynomialChaosAlgorithm = ot.FunctionalChaosAlgorithm(model, myDistribution, truncatureBasisStrategy, evalStrategy)\n",
    "polynomialChaosAlgorithm.run()"
   ]
  },
  {
   "cell_type": "markdown",
   "metadata": {},
   "source": [
    "Get the result"
   ]
  },
  {
   "cell_type": "code",
   "execution_count": null,
   "metadata": {},
   "outputs": [],
   "source": [
    "result = polynomialChaosAlgorithm.getResult()\n",
    "metamodel = result.getMetaModel()\n",
    "chaosRV = ot.FunctionalChaosRandomVector(result)"
   ]
  },
  {
   "cell_type": "markdown",
   "metadata": {},
   "source": [
    "## Validate the metamodel"
   ]
  },
  {
   "cell_type": "markdown",
   "metadata": {},
   "source": [
    "Generate a validation sample (different from the training sample)"
   ]
  },
  {
   "cell_type": "code",
   "execution_count": null,
   "metadata": {},
   "outputs": [],
   "source": [
    "n_valid = 1000\n",
    "inputSample = myDistribution.getSample(n_valid)\n",
    "outputSample = model(inputSample)"
   ]
  },
  {
   "cell_type": "markdown",
   "metadata": {},
   "source": [
    "Get the corresponding chaos-based predictions"
   ]
  },
  {
   "cell_type": "code",
   "execution_count": null,
   "metadata": {},
   "outputs": [],
   "source": [
    "outputChaosSample = metamodel(inputSample)"
   ]
  },
  {
   "cell_type": "markdown",
   "metadata": {},
   "source": [
    "Compute the relative mean-square accuracy (so-called Q2 coefficient)"
   ]
  },
  {
   "cell_type": "code",
   "execution_count": null,
   "metadata": {},
   "outputs": [],
   "source": [
    "residuals = outputSample - outputChaosSample\n",
    "Q2 = 1. - residuals.computeVariance()[0] / outputSample.computeVariance()[0]\n",
    "print(\"Q2 coefficient (relative accuracy): %.4f\" % Q2)"
   ]
  },
  {
   "cell_type": "markdown",
   "metadata": {},
   "source": [
    "Plot the actual vs the predicted outputs"
   ]
  },
  {
   "cell_type": "code",
   "execution_count": null,
   "metadata": {},
   "outputs": [],
   "source": [
    "val = ot.MetaModelValidation(inputSample, outputSample, metamodel)\n",
    "graph = val.drawValidation()\n",
    "View(graph).show()"
   ]
  },
  {
   "cell_type": "markdown",
   "metadata": {},
   "source": [
    "## Post-processing of the chaos expansion"
   ]
  },
  {
   "cell_type": "markdown",
   "metadata": {},
   "source": [
    "### Computation of the output mean and standard deviation from the chaos coefficients"
   ]
  },
  {
   "cell_type": "code",
   "execution_count": null,
   "metadata": {},
   "outputs": [],
   "source": [
    "print(\"Mean: %f\" % chaosRV.getMean()[0])\n",
    "print(\"Standard deviation: %f\" % sqrt(chaosRV.getCovariance()[0,0]))"
   ]
  },
  {
   "cell_type": "markdown",
   "metadata": {},
   "source": [
    "Draw the empirical PDF of the response obtained with Kernel density estimation technique"
   ]
  },
  {
   "cell_type": "code",
   "execution_count": null,
   "metadata": {},
   "outputs": [],
   "source": [
    "inputBigSample = myDistribution.getSample(10000)\n",
    "outputBigsample = metamodel(inputBigSample)\n",
    "kernel2 = ot.KernelSmoothing()\n",
    "fittedDist = kernel2.build(outputBigsample)\n",
    "graph = fittedDist.drawPDF()\n",
    "View(graph).show()"
   ]
  },
  {
   "cell_type": "markdown",
   "metadata": {},
   "source": [
    "### Computation of Sobol' sensitivity indices"
   ]
  },
  {
   "cell_type": "code",
   "execution_count": null,
   "metadata": {},
   "outputs": [],
   "source": [
    "chaosSI = ot.FunctionalChaosSobolIndices(result)\n",
    "\n",
    "# Main-effects\n",
    "for i, Xi in enumerate([\"E\", \"F\", \"L\", \"I\"]):\n",
    "    sobolIndex = chaosSI.getSobolIndex(i)\n",
    "    print(\"Sobol' sensitivity index to \"+Xi+\":    %f\" %sobolIndex)\n",
    "    \n",
    "# Total indices\n",
    "for i, Xi in enumerate([\"E\", \"F\", \"L\", \"I\"]):\n",
    "    sobolTotalIndex = chaosSI.getSobolTotalIndex(i)\n",
    "    print(\"Total Sobol' sensitivity index to \"+Xi+\":    %f\" %sobolTotalIndex)"
   ]
  },
  {
   "cell_type": "code",
   "execution_count": null,
   "metadata": {
    "scrolled": true
   },
   "outputs": [],
   "source": [
    "# interaction effects between first and second variables\n",
    "chaosSI.getSobolTotalIndex([0,1])"
   ]
  },
  {
   "cell_type": "markdown",
   "metadata": {},
   "source": [
    "### Reliability analysis using polynomial chaos and MCS"
   ]
  },
  {
   "cell_type": "code",
   "execution_count": null,
   "metadata": {},
   "outputs": [],
   "source": [
    "# Reliability analysis using a (large) Monte Carlo sample of the chaos approximation\n",
    "#\n",
    "threshold = 30\n",
    "myEvent = ot.ThresholdEvent(chaosRV, ot.ComparisonOperator(ot.Greater()), threshold)\n",
    "myEvent.setName(\"Deviation > 30 cm\")\n",
    "#\n",
    "maximumOuterSampling = 40000\n",
    "blockSize = 100\n",
    "coefficientOfVariation = 0.10\n",
    "#\n",
    "experiment = ot.MonteCarloExperiment()\n",
    "myAlgoMonteCarlo = ot.ProbabilitySimulationAlgorithm(myEvent, experiment)\n",
    "myAlgoMonteCarlo.setMaximumOuterSampling(maximumOuterSampling)\n",
    "myAlgoMonteCarlo.setBlockSize(blockSize)\n",
    "myAlgoMonteCarlo.setMaximumCoefficientOfVariation(coefficientOfVariation)\n",
    "myAlgoMonteCarlo.setConvergenceStrategy(ot.HistoryStrategy(ot.Full()))\n",
    "#\n",
    "myAlgoMonteCarlo.run()"
   ]
  },
  {
   "cell_type": "code",
   "execution_count": null,
   "metadata": {},
   "outputs": [],
   "source": [
    "print( \"Number of evaluations of the limit state function = \", myAlgoMonteCarlo.getResult().getOuterSampling()* myAlgoMonteCarlo.getResult().getBlockSize() )\n",
    "print( \"Monte Carlo probability estimation = \", myAlgoMonteCarlo.getResult().getProbabilityEstimate() )\n",
    "print( \"Variance of the Monte Carlo probability estimator = \", myAlgoMonteCarlo.getResult().getVarianceEstimate() )\n",
    "print( \"0.95 Confidence Interval = [\", myAlgoMonteCarlo.getResult().getProbabilityEstimate() - 0.5*myAlgoMonteCarlo.getResult().getConfidenceLength(0.95), \", \", myAlgoMonteCarlo.getResult().getProbabilityEstimate() + 0.5*myAlgoMonteCarlo.getResult().getConfidenceLength(0.95), \"]\" )\n",
    "print( \"\" )\n",
    "alpha = 0.90 \n",
    "convergenceGraphMonteCarlo = myAlgoMonteCarlo.drawProbabilityConvergence(alpha) \n",
    "#convergenceGraphMonteCarlo.draw(\"convergenceGrapheMonteCarlo\", 640, 480) \n",
    "\n",
    "\n",
    "#convergence_graph_monte_carlo = algo_monte_carlo.drawProbabilityConvergence(alpha)\n",
    "View(convergenceGraphMonteCarlo)"
   ]
  },
  {
   "cell_type": "markdown",
   "metadata": {},
   "source": [
    "### Reliability analysis using analytical model and MCS"
   ]
  },
  {
   "cell_type": "code",
   "execution_count": null,
   "metadata": {},
   "outputs": [],
   "source": [
    "X_random_vector = ot.RandomVector(ot.Distribution(myDistribution))\n",
    "G = ot.CompositeRandomVector(model, X_random_vector)\n",
    "\n",
    "threshold = 30\n",
    "myEvent = ot.ThresholdEvent(G, ot.ComparisonOperator(ot.Greater()), threshold)\n",
    "myEvent.setName(\"Deviation > 30 cm\")\n",
    "#\n",
    "maximumOuterSampling = 40000\n",
    "blockSize = 100\n",
    "coefficientOfVariation = 0.10\n",
    "#\n",
    "experiment = ot.MonteCarloExperiment()\n",
    "myAlgoMonteCarlo = ot.ProbabilitySimulationAlgorithm(myEvent, experiment)\n",
    "myAlgoMonteCarlo.setMaximumOuterSampling(maximumOuterSampling)\n",
    "myAlgoMonteCarlo.setBlockSize(blockSize)\n",
    "myAlgoMonteCarlo.setMaximumCoefficientOfVariation(coefficientOfVariation)\n",
    "myAlgoMonteCarlo.setConvergenceStrategy(ot.HistoryStrategy(ot.Full()))\n",
    "#\n",
    "myAlgoMonteCarlo.run()\n",
    "\n",
    "print( \"Number of evaluations of the limit state function = \", myAlgoMonteCarlo.getResult().getOuterSampling()* myAlgoMonteCarlo.getResult().getBlockSize() )\n",
    "print( \"Monte Carlo probability estimation = \", myAlgoMonteCarlo.getResult().getProbabilityEstimate() )\n",
    "print( \"Variance of the Monte Carlo probability estimator = \", myAlgoMonteCarlo.getResult().getVarianceEstimate() )\n",
    "print( \"0.95 Confidence Interval = [\", myAlgoMonteCarlo.getResult().getProbabilityEstimate() - 0.5*myAlgoMonteCarlo.getResult().getConfidenceLength(0.95), \", \", myAlgoMonteCarlo.getResult().getProbabilityEstimate() + 0.5*myAlgoMonteCarlo.getResult().getConfidenceLength(0.95), \"]\" )\n",
    "print( \"\") \n",
    "alpha = 0.90 \n",
    "convergenceGraphMonteCarlo = myAlgoMonteCarlo.drawProbabilityConvergence(alpha) \n",
    "#convergenceGraphMonteCarlo.draw(\"convergenceGrapheMonteCarlo\", 640, 480) \n",
    "\n",
    "\n",
    "#convergence_graph_monte_carlo = algo_monte_carlo.drawProbabilityConvergence(alpha)\n",
    "View(convergenceGraphMonteCarlo).show()"
   ]
  }
 ],
 "metadata": {
  "kernelspec": {
   "display_name": "Python 3",
   "language": "python",
   "name": "python3"
  },
  "language_info": {
   "codemirror_mode": {
    "name": "ipython",
    "version": 3
   },
   "file_extension": ".py",
   "mimetype": "text/x-python",
   "name": "python",
   "nbconvert_exporter": "python",
   "pygments_lexer": "ipython3",
   "version": "3.7.6"
  }
 },
 "nbformat": 4,
 "nbformat_minor": 1
}
