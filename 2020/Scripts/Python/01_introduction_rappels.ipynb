{
 "cells": [
  {
   "cell_type": "code",
   "execution_count": 2,
   "metadata": {},
   "outputs": [],
   "source": [
    "%matplotlib inline"
   ]
  },
  {
   "cell_type": "markdown",
   "metadata": {},
   "source": [
    "# Formation à Python pour les Statistiques : Jour 1 - Introduction"
   ]
  },
  {
   "cell_type": "markdown",
   "metadata": {},
   "source": [
    "## Objectifs\n",
    "\n",
    "* Introduire à l'utilisation de modules python pour les statistiques :\n",
    "   * Scikit-learn\n",
    "   * Pandas\n",
    "   * PyMC\n",
    "   * Scipy\n",
    "   * OpenTURNS"
   ]
  },
  {
   "cell_type": "markdown",
   "metadata": {},
   "source": [
    "## Présentation des sites des principaux modules"
   ]
  },
  {
   "cell_type": "markdown",
   "metadata": {},
   "source": [
    "http://www.numpy.org/\n",
    "\n",
    "http://www.scipy.org/\n",
    "\n",
    "http://pandas.pydata.org/\n",
    "\n",
    "http://statsmodels.sourceforge.net/\n",
    "\n",
    "http://scikit-learn.org/stable/\n",
    "\n",
    "http://pymc-devs.github.io/pymc/\n",
    "\n",
    "http://orange.biolab.si/\n",
    "\n",
    "http://www.openturns.org\n"
   ]
  },
  {
   "cell_type": "markdown",
   "metadata": {},
   "source": [
    "## Rappels Python"
   ]
  },
  {
   "cell_type": "markdown",
   "metadata": {},
   "source": [
    "Le langage Python est un langage *interprété* (comme Matlab), ce qui implique donc l'utilisation d'un interpréteur pour traduire le code Python en langage compréhensible par la machine (l'ordinateur)\n",
    "\n",
    "Il en existe de nombreux, voici une présentation des trois plus utilisés :\n",
    "1. **Interpréteur de base** : C'est l'interpréteur historique de Python. Il est utilisé pour cette raison. Il est cependant un peu trop rigide pour une utilisation quotidienne !\n",
    "![intepréteur python.png](./figures/python.png \"intepréteur python\")\n",
    "\n",
    "2. **IPython** : Pour Interactive Python. Comme son nom l'indique, il intégre de multiples fonctionnalités à l'interpréteur de base.\n",
    "On peut noter par exemple :\n",
    "    * l'ajout des quelques fonctionnalités shell (bash pour linux, dos pour windows), \n",
    "    * un opérateur de complétion automatique, \n",
    "    * des fonctions magiques (%paste, ...),\n",
    "    * un accès aux docstrings des objets python, c.à.d leur documentation, via l'opérateur ?,\n",
    "    * une fonctionnalité de calcul parallèle.\n",
    "![intepréteur ipython.png](./figures/ipython.png \"intepréteur ipython\")\n",
    "\n",
    "3. **IPython Notebook**\n",
    "Ce n'est pas un interpréteur à proprement parler, il s'agit d'une interface *web* d'IPython. Toutes les fonctionnalités d'IPython sont donc disponibles, avec en sus la possibilité d'intégrer autour du code:\n",
    "    * divers langages (Latex, Markdown),\n",
    "    * des figures issues de calculs ou d'une source externe.\n",
    "Un notebook (format .ipynb) est également exportable tel quel en format html ou pdf.\n"
   ]
  },
  {
   "cell_type": "markdown",
   "metadata": {},
   "source": [
    "### Les variables"
   ]
  },
  {
   "cell_type": "markdown",
   "metadata": {},
   "source": [
    "#### Les types de variables"
   ]
  },
  {
   "cell_type": "markdown",
   "metadata": {},
   "source": [
    "![types des variables.png](./figures/types_variables.png \"types des variables python\")"
   ]
  },
  {
   "cell_type": "markdown",
   "metadata": {},
   "source": [
    "#### Les opérations entre variables numériques"
   ]
  },
  {
   "cell_type": "markdown",
   "metadata": {},
   "source": [
    "Une opération (multiplication, division, soustraction, addition) entre plusieurs variables numériques donne un résultat dont le type dépend des variables utilisées\n",
    "![opérations variables.png](./figures/operations_entre_variables.png \"opérations entre variables python\")"
   ]
  },
  {
   "cell_type": "markdown",
   "metadata": {},
   "source": [
    "#### Définir des variables"
   ]
  },
  {
   "cell_type": "markdown",
   "metadata": {},
   "source": [
    "##### Variables simples : "
   ]
  },
  {
   "cell_type": "code",
   "execution_count": 3,
   "metadata": {},
   "outputs": [
    {
     "ename": "SyntaxError",
     "evalue": "invalid syntax (<ipython-input-3-01e7cfc3341d>, line 6)",
     "output_type": "error",
     "traceback": [
      "\u001b[0;36m  File \u001b[0;32m\"<ipython-input-3-01e7cfc3341d>\"\u001b[0;36m, line \u001b[0;32m6\u001b[0m\n\u001b[0;31m    print \"Type de a : %s\"%type(a)\u001b[0m\n\u001b[0m                         ^\u001b[0m\n\u001b[0;31mSyntaxError\u001b[0m\u001b[0;31m:\u001b[0m invalid syntax\n"
     ]
    }
   ],
   "source": [
    "a = 1\n",
    "b = 1.\n",
    "c = 1 + 2 * 1j\n",
    "d = \"variables\"\n",
    "\n",
    "print \"Type de a : %s\"%type(a)\n",
    "print \"Type de b : %s\"%type(b)\n",
    "print \"Type de c : %s\"%type(c)\n",
    "print \"Type de d : %s\"%type(d)"
   ]
  },
  {
   "cell_type": "markdown",
   "metadata": {},
   "source": [
    "##### Collections de variables :"
   ]
  },
  {
   "cell_type": "code",
   "execution_count": null,
   "metadata": {},
   "outputs": [],
   "source": [
    "a = [1, 2, 3, 4, 5]\n",
    "b = [] # Liste vide !\n",
    "c = [element for element in xrange(3)]\n",
    "d = [[1, 2], [1, 2]]\n",
    "\n",
    "print 'a = ', a\n",
    "print 'b = ', b\n",
    "print 'c = ', c\n",
    "print 'd = ', d"
   ]
  },
  {
   "cell_type": "code",
   "execution_count": null,
   "metadata": {},
   "outputs": [],
   "source": [
    "print \"premier élément de a = \", a[0]\n",
    "print \"dernier élément de a = \", a[-1] # Pour l'avant-dernier : a[-2]\n",
    "print \"deux premiers éléments de a = \", a[:2] # ou a[0:2]\n",
    "print \"Parcourir a de 2 en 2 :\", a[::2]\n",
    "print \"Parcourir a à partir du dernier élément :\", a[::-1]\n",
    "print \"premier élément de d = \", d[0]\n",
    "print \"deuxième élément du premier élément de d = \", d[0][1]"
   ]
  },
  {
   "cell_type": "markdown",
   "metadata": {},
   "source": [
    "Plusieurs méthodes permettent de modifier une liste et son contenu :\n",
    "* append : ajoute un terme à la fin de la liste,\n",
    "* insert : insert un terme à la position voulue,\n",
    "* remove : supprime la première occurence d'une valeur dans une liste.\n",
    "\n",
    "Pour concaténer deux listes (possible également avec les tuple), il suffit de les ajouter."
   ]
  },
  {
   "cell_type": "markdown",
   "metadata": {},
   "source": [
    "Un dictionnaire est une structure composée de deux éléments :\n",
    "* Les *keys*,\n",
    "* et leurs *values*.\n",
    "\n",
    "Pour créer un dictionnaire :"
   ]
  },
  {
   "cell_type": "code",
   "execution_count": null,
   "metadata": {},
   "outputs": [],
   "source": [
    "a = {'Stress' : 35,\n",
    "     'Unit' : 'MPa'}\n",
    "\n",
    "b = dict(Stress = 35, Unit = 'MPa')\n",
    "print \"a = \", a\n",
    "print \"b = \", b"
   ]
  },
  {
   "cell_type": "code",
   "execution_count": null,
   "metadata": {},
   "outputs": [],
   "source": [
    "a['Stress'] = a['Stress'] * 1e6\n",
    "a['Unit'] = 'Pa'\n",
    "\n",
    "print \"a = \", a\n",
    "print \"b = \", b"
   ]
  },
  {
   "cell_type": "markdown",
   "metadata": {},
   "source": [
    "#### Les tests"
   ]
  },
  {
   "cell_type": "markdown",
   "metadata": {},
   "source": [
    "Les différents types de test disponibles sont :\n",
    "![tests_python.png](./figures/test_python.png \"tests python\")\n",
    "\n",
    "Un test résulte systèmatiquement en un booléen (*True* ou *False*).\n",
    "Un test peut être composé de plusieurs sous-tests, reliés entre eux par des les opérations logiques *or* (porte où) et *and* (porte et)"
   ]
  },
  {
   "cell_type": "markdown",
   "metadata": {},
   "source": [
    "### Les instructions \"complexes\""
   ]
  },
  {
   "cell_type": "markdown",
   "metadata": {},
   "source": [
    "En python, une instruction \"complexe\" est composée :\n",
    "\n",
    "* Du nom de l'instruction\n",
    "* Des arguments de l'instruction\n",
    "* De \":\" pour indiquer le début du code concerné par l'instruction\n",
    "* Du code concerné, indenté. La fin de l'indentation indique la fin du bloc de code concerné."
   ]
  },
  {
   "cell_type": "markdown",
   "metadata": {},
   "source": [
    "#### Exécution conditonnelle"
   ]
  },
  {
   "cell_type": "markdown",
   "metadata": {},
   "source": [
    "On trouve 3 instructions de contrôle : *if, elif, else.*"
   ]
  },
  {
   "cell_type": "code",
   "execution_count": null,
   "metadata": {},
   "outputs": [],
   "source": [
    "variable = 1\n",
    "\n",
    "if variable == 1:\n",
    "    print 'Good Morning'\n",
    "elif variable == 2:\n",
    "    print 'Good Evening'\n",
    "else:\n",
    "    print 'Good Night'"
   ]
  },
  {
   "cell_type": "markdown",
   "metadata": {},
   "source": [
    "#### Les boucles"
   ]
  },
  {
   "cell_type": "markdown",
   "metadata": {},
   "source": [
    "On trouve deux sortes de boucles en Python :\n",
    "* boucle *for*\n",
    "* boucle *while*"
   ]
  },
  {
   "cell_type": "code",
   "execution_count": null,
   "metadata": {},
   "outputs": [],
   "source": [
    "for i in range(2, 10, 1):\n",
    "    a = 2*i\n",
    "    b = a + i\n",
    "    print \"(2 x %d) + %d = %d\" % (i,i,b)"
   ]
  },
  {
   "cell_type": "code",
   "execution_count": null,
   "metadata": {},
   "outputs": [],
   "source": [
    "variable = [i for i in range(10) if not i % 2]\n",
    "print \"variable = \", variable\n",
    "print \"type de variable : \", type(variable)"
   ]
  },
  {
   "cell_type": "code",
   "execution_count": null,
   "metadata": {},
   "outputs": [],
   "source": [
    "liste = ['Hello', 'How are you doing ?', 'Ok nice, see you later then !']\n",
    "for string in liste:\n",
    "    print string"
   ]
  },
  {
   "cell_type": "code",
   "execution_count": null,
   "metadata": {},
   "outputs": [],
   "source": [
    "i = 0\n",
    "while i < 2:\n",
    "    print 'hello World'\n",
    "    i += 1 # Un # indique un commentaire, i += 1 signifie que l'on incrémente i de 1"
   ]
  },
  {
   "cell_type": "markdown",
   "metadata": {},
   "source": [
    "Dans les boucles, trois mots clés pouvant interagir avec celles-ci sont utilisables :\n",
    "\n",
    "* *pass* : sans effet, parfois utile pour des raisons syntaxiques\n",
    "* *break* : lorsque ce mot clé est rencontré, la boucle est directement interrompue\n",
    "* *continue* : lorsque ce mot clé est rencontré, l'exécution de la boucle passe directement à l'itération suivante en ignorant toutes les instructions qui sont après ce mot clé"
   ]
  },
  {
   "cell_type": "code",
   "execution_count": null,
   "metadata": {},
   "outputs": [],
   "source": [
    "i = 0\n",
    "while i < 5:\n",
    "    if i < 2:\n",
    "        print 'hello World'\n",
    "        i += 1\n",
    "        continue\n",
    "    if i > 3:\n",
    "        break\n",
    "    print 'i = ', i\n",
    "    i += 1 # Un # indique un commentaire, i += 1 signifie que l'on incrément i de 1\n",
    "\n",
    "print 'Final : i = ', i"
   ]
  },
  {
   "cell_type": "markdown",
   "metadata": {},
   "source": [
    "#### La déclaration et l'appel de fonctions"
   ]
  },
  {
   "cell_type": "markdown",
   "metadata": {},
   "source": [
    "Il peut être utile de définir des fonctions pour utiliser un code de manière récursive. En Python, la syntaxe est la suivante :\n",
    "\n",
    "    def nom_de_ma_fonction(arguments_de_ma_fonction):\n",
    "        return resultat_de_ma_fonction\n",
    "L'indentation sert une nouvelle fois à définir la portée de la commande, ici la fonction.\n",
    "\n",
    "Ensuite pour appeler cette fonction la syntaxe est :\n",
    "\n",
    "    nom_de_ma_fonction(arguments_de_ma_fonction)\n",
    "    "
   ]
  },
  {
   "cell_type": "code",
   "execution_count": null,
   "metadata": {},
   "outputs": [],
   "source": [
    "def fonction_puissance(nombre=1, puissance=1):\n",
    "    return nombre**puissance # ** est l'opérateur de puissance"
   ]
  },
  {
   "cell_type": "code",
   "execution_count": null,
   "metadata": {},
   "outputs": [],
   "source": [
    "print \"2^3 = \", fonction_puissance(2, 3)"
   ]
  },
  {
   "cell_type": "code",
   "execution_count": null,
   "metadata": {},
   "outputs": [],
   "source": [
    "print \"2^3 = \", fonction_puissance(2, 3)\n",
    "print \"2^3 = \", fonction_puissance(nombre=2, puissance=3)\n",
    "print \"2^3 = \", fonction_puissance(puissance=3, nombre=2)\n",
    "print \"2^3 = \", fonction_puissance()"
   ]
  },
  {
   "cell_type": "markdown",
   "metadata": {},
   "source": [
    "Python propose aussi les variables magiques \\*args  et \\**kwargs. En indiquant ces variables comme arguments d'une fonction, il est possible de passer des arguments supplémentaires ce qui permet d'assouplir et d'étendre la validité d'une définition de fonction."
   ]
  },
  {
   "cell_type": "code",
   "execution_count": null,
   "metadata": {},
   "outputs": [],
   "source": [
    "def listing(premier_argument, *args, **kwargs):\n",
    "    liste = []\n",
    "    liste.append(premier_argument)\n",
    "    for arg in args:\n",
    "        liste.append(arg)\n",
    "    for kwarg in kwargs.keys():\n",
    "        liste.append([kwarg, kwargs[kwarg]])\n",
    "    return liste"
   ]
  },
  {
   "cell_type": "code",
   "execution_count": null,
   "metadata": {},
   "outputs": [],
   "source": [
    "print \"un argument : \", listing('argument')\n",
    "print \"deux arguments : \",listing('argument', '*arg', '*arg2')\n",
    "print \"deux arguments et un keyword argument: \",listing('argument', '*arg', karg='**kwargs')"
   ]
  },
  {
   "cell_type": "markdown",
   "metadata": {},
   "source": [
    "**ATTENTION** : Les espaces de variables ne sont pas partagés en Python. C'est à dire qu'une variable créée dans une fonction n'est pas accessible en dehors de celle-ci. Toutes les variables auxquelles on souhaite accéder doivent être retournées avec la commande *return*.\n",
    "\n",
    "En revanche une fonction a accès à l'espace de l'interpréteur, ce qui veut dire que toute variable instanciée avant de définir une fonction est accessible par celle-ci sans qu'il ne soit nécessaire de la mettre en argument. "
   ]
  },
  {
   "cell_type": "markdown",
   "metadata": {},
   "source": [
    "Il est également possible pour les fonctions très simples de les écrire sous forme d'une *lambda function* suivant la syntaxe :\n",
    "\n",
    "    fonction = lambda input1, input2, ... : formule"
   ]
  },
  {
   "cell_type": "code",
   "execution_count": null,
   "metadata": {},
   "outputs": [],
   "source": [
    "f = lambda x, y : [x*2]*y\n",
    "print f(4, 3)"
   ]
  },
  {
   "cell_type": "markdown",
   "metadata": {},
   "source": [
    "#### La déclaration et l'utilisation d'objets"
   ]
  },
  {
   "cell_type": "markdown",
   "metadata": {},
   "source": [
    "Python est un langage orienté objet, la programmation de ceux-ci suit le même principe que pour les fonctions : c'est très simple.\n",
    "\n",
    "La syntaxe générique est la suivante :\n",
    "\n",
    "    class Nom_de_ma_classe(Parents_de_ma_classe):\n",
    "        def __init__(self, argument1, argument2, *args, **kwargs):\n",
    "            self.argument1 = argument1\n",
    "            _argument2 = argument2\n",
    "            \n",
    "        def methode_de_ma_classe(self, argument_de_la_methode, *args, **kwargs):\n",
    "            return resultat_de_la_methode\n",
    "\n",
    "La liste des subtilités :\n",
    "\n",
    "* 'Parents_de_ma_classe' est un objet dont hérite 'Nom_de_ma_classe', c'est à dire que l'objet 'Nom_de_ma_classe' aura également tous les arguments et méthodes de l'objet 'Parents_de_ma_classe',\n",
    "* La fonction __init__ est le constructeur de l'objet : elle est appelée lors de la création de celui-ci,\n",
    "* A l'intérieur d'un objet, self se réfère à celui-ci. Tous les arguments définis par 'self.' sont accessibles à l'extérieur de l'objet, ainsi que dans toutes les méthodes de l'objet,\n",
    "* Les arguments définis par '_' sont des arguments privés. Les arguments privés n'existent pas en Python, ceci est une convention de programmation. Ici, '_argument2' est donc notifié comme étant privé, et non accessible de l'extérieur ou par une autre méthode de l'objet\n",
    "* 'methode_de_ma_classe' est une méthode de l'objet, accessible depuis l'extérieur, qui nécessite ses propres arguments 'argument_de_la_methode'. L'argument 'self' est systèmatiquement transmis sans intervention de l'utilisateur, la méthode a donc accès à tous les arguments définis dans l'objet (devancés par self.) et à toutes les autres méthodes."
   ]
  },
  {
   "cell_type": "code",
   "execution_count": null,
   "metadata": {},
   "outputs": [],
   "source": [
    "class Puissance():\n",
    "    def __init__(self, puissance):\n",
    "        self.puissance = puissance\n",
    "    \n",
    "    def __call__(self, nombre):\n",
    "        \"\"\"\n",
    "        Cette fonction retourne la puissance du nombre\n",
    "        \"\"\"\n",
    "        return nombre**self.puissance\n",
    "    \n",
    "    def methode(self, nombre):\n",
    "        \"\"\"\n",
    "        Cette fonction retourne aussi la puissance du nombre\n",
    "        \"\"\"\n",
    "        return nombre**self.puissance"
   ]
  },
  {
   "cell_type": "code",
   "execution_count": null,
   "metadata": {},
   "outputs": [],
   "source": [
    "# Instanciation de l'objet\n",
    "obj_puissance = Puissance(puissance=2)\n",
    "\n",
    "# Calcul du carré de 3\n",
    "print \"3^2 = \", obj_puissance(nombre=3)\n",
    "\n",
    "# Calcul du carré de 3\n",
    "print \"3^2 = \", obj_puissance.methode(nombre=3)\n",
    "\n",
    "\n",
    "# Accès au paramètre puissance\n",
    "print \"puissance de l'objet = \", obj_puissance.puissance\n",
    "\n",
    "# Qui peut être changé bien sûr\n",
    "obj_puissance.puissance = 3\n",
    "print \"puissance de l'objet = \", obj_puissance.puissance\n"
   ]
  },
  {
   "cell_type": "markdown",
   "metadata": {},
   "source": [
    "#### Debugging"
   ]
  },
  {
   "cell_type": "markdown",
   "metadata": {},
   "source": [
    "Les erreurs d'exécution de code arrivent... et sont parfois prévisibles ! Et Python peut les gérer avec les commandes *try* et *except*"
   ]
  },
  {
   "cell_type": "code",
   "execution_count": null,
   "metadata": {},
   "outputs": [],
   "source": [
    "variable = range(5)\n",
    "print \"variable = \", variable\n",
    "a = 1.\n",
    "for b in variable:\n",
    "    try:\n",
    "        print a / b\n",
    "    except:\n",
    "        print 'Division par zéro !'"
   ]
  },
  {
   "cell_type": "markdown",
   "metadata": {},
   "source": [
    "Il est aussi possible d'inspecter l'exécution d'un code en utilisant le module pdb :"
   ]
  },
  {
   "cell_type": "code",
   "execution_count": null,
   "metadata": {},
   "outputs": [],
   "source": [
    "import pdb\n",
    "a = 0\n",
    "pdb.set_trace()\n",
    "b = 1"
   ]
  },
  {
   "cell_type": "markdown",
   "metadata": {},
   "source": [
    "Où, via le notebook, de l'utiliser pour retourner à la dernière exception :"
   ]
  },
  {
   "cell_type": "code",
   "execution_count": null,
   "metadata": {},
   "outputs": [],
   "source": [
    "%debug"
   ]
  },
  {
   "cell_type": "markdown",
   "metadata": {},
   "source": [
    "#### L'utilisation de modules"
   ]
  },
  {
   "cell_type": "markdown",
   "metadata": {},
   "source": [
    "En Python, un objet peut être programmé dans un script externe (extension .py). \n",
    "Pour importer un module les syntaxes possibles sont les suivantes :\n",
    "\n",
    "    import mon_module\n",
    "    objet = mon_module.mon_objet(args)\n",
    "    \n",
    "    import mon_module as m\n",
    "    fonction = m.ma_fonction(args)\n",
    "    \n",
    "    from mon_module import mon_objet\n",
    "    objet = mon_objet(args)\n",
    "    \n",
    "    from mon_module import *\n",
    "    objet = mon_objet(args)\n",
    "    fonction = ma_fonction(args)\n",
    "    \n",
    "L'import \\* est dans la mesure du possible **à éviter**. De nombreux modules possédent des fonctions aux noms identiques, ce qui peut amener à quelques incohérences ! Dans l'idéal, il est préférable de mettre tous les imports de modules au début pour améliorer la compréhension du code.\n",
    "\n",
    "Un script peut donc devenir un module utilisable par n'importe quel autre script (sous réserve d'indiquer à Python où chercher !)\n",
    "Pour cela, on utilise le module *sys*\n",
    "\n",
    "    import sys\n",
    "    sys.path.append(\"localisation/de/mon/script\")"
   ]
  },
  {
   "cell_type": "markdown",
   "metadata": {},
   "source": [
    "## Rappels de numpy"
   ]
  },
  {
   "cell_type": "markdown",
   "metadata": {},
   "source": [
    "Le module Numpy permet de donner à Python des fonctionnalités de calculs scientifiques proches de Matlab, notamment sur la gestion des tableaux et matrices.\n",
    "Comme nous l'avons vu, pour importer numpy :"
   ]
  },
  {
   "cell_type": "code",
   "execution_count": null,
   "metadata": {},
   "outputs": [],
   "source": [
    "import numpy as np"
   ]
  },
  {
   "cell_type": "markdown",
   "metadata": {},
   "source": [
    "### Fonctionnalité principale : les numpy arrays"
   ]
  },
  {
   "cell_type": "markdown",
   "metadata": {},
   "source": [
    "Les numpy array sont des tableaux de nombres ayant un certain nombre de spécificités décrites ci-dessous.\n",
    "\n",
    "Pour démarrer, il faut instancier un array !"
   ]
  },
  {
   "cell_type": "code",
   "execution_count": null,
   "metadata": {},
   "outputs": [],
   "source": [
    "mon_array1 = np.array([]) # array vide\n",
    "\n",
    "mon_array2 = np.array([1, 2, 3]) # vecteur {1, 2, 3}\n",
    "\n",
    "mon_array3 = np.array([[1, 2], [2, 1]]) # matrice [1, 2 // 2, 1]\n",
    "\n",
    "mon_array4 = np.array([[[1, 2], [1, 2]],\n",
    "                       [[1, 2], [1, 2]]]) # matrice 3D"
   ]
  },
  {
   "cell_type": "markdown",
   "metadata": {},
   "source": [
    "De nombreux générateurs d'array sont également disponibles"
   ]
  },
  {
   "cell_type": "code",
   "execution_count": null,
   "metadata": {},
   "outputs": [],
   "source": [
    "matrice_de_0 = np.zeros((3, 3), dtype=float)\n",
    "vecteur = np.linspace(1, 9, 9)\n",
    "vecteur_2 = np.arange(6)\n",
    "matrice_de_1 = np.ones((5,5))\n",
    "matrice_identite = np.eye(5)\n",
    "matrice = vecteur.reshape(3, 3, order='C')"
   ]
  },
  {
   "cell_type": "markdown",
   "metadata": {},
   "source": [
    "##### Accéder aux éléments d'un array"
   ]
  },
  {
   "cell_type": "markdown",
   "metadata": {},
   "source": [
    "L'accès à un élément d'un array se fait de la même façon que pour accéder à un élément d'une liste."
   ]
  },
  {
   "cell_type": "code",
   "execution_count": null,
   "metadata": {},
   "outputs": [],
   "source": [
    "print \"premier élément de vecteur = \", vecteur[0]\n",
    "print \"dernier élément de vecteur  = \", vecteur[-1] \n",
    "print \"deux premiers éléments de vecteur  = \", vecteur[:2]\n",
    "print \"Parcourir vecteur  de 2 en 2 :\", vecteur[::2]\n",
    "print \"Parcourir vecteur  à partir du dernier élément :\", vecteur[::-1]"
   ]
  },
  {
   "cell_type": "code",
   "execution_count": null,
   "metadata": {},
   "outputs": [],
   "source": [
    "print \"élément (11) de matrice = \", matrice[0, 0]\n",
    "print \"extraction d'une sous-matrice \\n\", matrice[1:, 1:]\n",
    "print \"extraction d'une sous-matrice \\n\", matrice[1:, :]"
   ]
  },
  {
   "cell_type": "markdown",
   "metadata": {},
   "source": [
    "##### Les opérations entre array : le broadcasting"
   ]
  },
  {
   "cell_type": "markdown",
   "metadata": {},
   "source": [
    "Les opérations entre array suivent une règle appelée le broadcasting. Lorsque cela concerne des array de formes matricielles, les opérations ne sont pas matricielles (nous reviendrons sur ce point)\n",
    "\n",
    "Voici les régles :\n",
    "\n",
    "\n",
    "* ![broad1.png](./figures/broad1.png \"opérations entre array numpy\")\n",
    "\n",
    "* ![broad2.png](./figures/broad2.png \"opérations entre array numpy\")\n",
    "\n",
    "* ![broad3.png](./figures/broad3.png \"opérations entre array numpy\")\n",
    "\n",
    "* ![broad4.png](./figures/broad4.png \"opérations entre array numpy\")"
   ]
  },
  {
   "cell_type": "code",
   "execution_count": null,
   "metadata": {},
   "outputs": [],
   "source": [
    "scalaire = 5.\n",
    "vecteur1 = np.array([0, 1, 2, 3])\n",
    "vecteur2 = np.array([[0], [1], [2], [3]]) \n",
    "# possibilité de le créer en écrivant np.array([0, 1, 2, 3]).reshape(1,4)\n",
    "#                                     np.atleast_2d(np.array([0, 1, 2, 3])).transpose()"
   ]
  },
  {
   "cell_type": "code",
   "execution_count": null,
   "metadata": {},
   "outputs": [],
   "source": [
    "print \"vecteur1 + scalaire = \\n\", vecteur1 + scalaire\n",
    "print \"vecteur2 * scalaire = \\n\", vecteur2 * scalaire\n",
    "print \"vecteur1 + vecteur2 = \\n\", vecteur1 + vecteur2\n",
    "print \"vecteur1 * vecteur2 = \\n\", vecteur1 * vecteur2"
   ]
  },
  {
   "cell_type": "markdown",
   "metadata": {},
   "source": [
    "Pour réaliser des opérations matricielles, il faut passer par la classe matrix. Avec celle-ci, plus de broadcasting ! On peut facilement passer d'un array à une matrice :\n",
    "\n",
    "    matrice = np.matrix(array)\n",
    "    array = np.array(matrice)\n",
    "    \n",
    "Une autre option pour le produit matriciel est la fonction dot."
   ]
  },
  {
   "cell_type": "code",
   "execution_count": null,
   "metadata": {},
   "outputs": [],
   "source": [
    "matrice1 = np.matrix([[1, 2, 3], [0, 4, 5], [0, 0, 6]])\n",
    "array1 = np.array([[1, 2, 3], [0, 4, 5], [0, 0, 6]])\n",
    "print \"matrice1 = \\n\", matrice1\n",
    "\n",
    "print \"matrice1 * matrice1.T = \\n\", matrice1*matrice1.T # T permet de transposer. Attention, sur un array 1d ceci n'a\n",
    "                                                        # aucun impact.\n",
    "print \"matrice1 * matrice1.T = \\n\", np.dot(array1, array1.T)"
   ]
  },
  {
   "cell_type": "markdown",
   "metadata": {},
   "source": [
    "## Utilisation de Pandas"
   ]
  },
  {
   "cell_type": "markdown",
   "metadata": {},
   "source": [
    "Pandas est un module python qui propose un nouveau type de tableau (différent des arrays de Numpy !) qui est beaucoup plus adapté aux structures de données : le *DataFrame*\n",
    "\n",
    "Un *DataFrame* est une structure ligne colonne pour laquelle chaque colonne correspond à une *Series*"
   ]
  },
  {
   "cell_type": "code",
   "execution_count": null,
   "metadata": {},
   "outputs": [],
   "source": [
    "import pandas as pds"
   ]
  },
  {
   "cell_type": "markdown",
   "metadata": {},
   "source": [
    "### Création d'un dataframe à partir d'un objet Python"
   ]
  },
  {
   "cell_type": "code",
   "execution_count": null,
   "metadata": {},
   "outputs": [],
   "source": [
    "liste2d = [[10, 11], [20, 21], [30, 31], [40, 41], [50, 51]]\n",
    "dictionnaire2d = {'cat. A' : 10, 'cat. A' : 20, 'cat. C' : 30, 'cat. D' : 40, 'cat. E' : np.arange(5)}\n",
    "array = np.arange(25).reshape((5,5))"
   ]
  },
  {
   "cell_type": "code",
   "execution_count": null,
   "metadata": {},
   "outputs": [],
   "source": [
    "dataList = pds.DataFrame(liste)\n",
    "dataList2d = pds.DataFrame(liste2d)\n",
    "dataDict = pds.DataFrame(dictionnaire2d, index=['p1', 'p2', 'p3', 'p4', 'p4'])\n",
    "dataArray = pds.DataFrame(array, index=['x1', 'x2', 'x3', 'x4', 'x5'], columns=['y1', 'y2', 'y3', 'y4', 'y5'])\n",
    "\n",
    "dataList2 = pds.DataFrame(liste2d, index=['A', 'A', 'cat. C', 'cat. D', 'cat. E'], columns=list('AA'))\n",
    "\n",
    "dates = pds.date_range('20130101',periods=5)\n",
    "dataList3 = pds.DataFrame(liste2d, index=dates, columns=list('AB'))"
   ]
  },
  {
   "cell_type": "code",
   "execution_count": null,
   "metadata": {},
   "outputs": [],
   "source": [
    "dataList3"
   ]
  },
  {
   "cell_type": "markdown",
   "metadata": {},
   "source": [
    "### Création d'un dataframe à partir d'un fichier"
   ]
  },
  {
   "cell_type": "code",
   "execution_count": null,
   "metadata": {},
   "outputs": [],
   "source": [
    "dataCSV = pds.read_csv('./exemples/example.csv', sep=',', header=None)\n",
    "dataCSV.head()"
   ]
  },
  {
   "cell_type": "code",
   "execution_count": null,
   "metadata": {},
   "outputs": [],
   "source": [
    "dataExcel = pds.read_excel('./exemples/example.xlsx', 'Data', parse_cols='A:M')\n",
    "dataExcel.fillna(value=2)\n",
    "dataExcel.head()"
   ]
  },
  {
   "cell_type": "markdown",
   "metadata": {},
   "source": [
    "### Navigation dans un DataFrame"
   ]
  },
  {
   "cell_type": "markdown",
   "metadata": {},
   "source": [
    "La navigation dans les *DataFrame* est similaire à la navigation dans un dictionnaire !\n",
    "On peut naviguer dans les lignes avec \n",
    "\n",
    "* leur position\n",
    "* leur indice (leur *key*)\n",
    "\n",
    "Pour sélectionner des cellules d'un DataFrame, il existe de nombreux moyens, dont 4 principaux :\n",
    "\n",
    "* loc : indexation basée uniquement sur les labels. Index et Colonnes.\n",
    "* iloc : indexation basée uniquement sur la position. Index et Colonnes.\n",
    "* ix : indexation mixte basée sur les labels et/ou la position. Index et Colonnes\n",
    "* indexation type array : liste de labels pour les colonnes, liste de positions pour les index."
   ]
  },
  {
   "cell_type": "code",
   "execution_count": null,
   "metadata": {},
   "outputs": [],
   "source": [
    "d = {'one':np.arange(5),\n",
    "     'three':np.repeat(3,5),\n",
    "     'two':np.arange(5,10,1),\n",
    "     'letter':['a','a','b','b','c']}\n",
    "index = ['first', 'second', 'third', 'fourth', 'fifth']\n",
    "df = pds.DataFrame(d, index=index)\n",
    "df"
   ]
  },
  {
   "cell_type": "markdown",
   "metadata": {},
   "source": [
    "#### Utilisation de loc :"
   ]
  },
  {
   "cell_type": "code",
   "execution_count": null,
   "metadata": {},
   "outputs": [],
   "source": [
    "df.loc['first']"
   ]
  },
  {
   "cell_type": "code",
   "execution_count": null,
   "metadata": {},
   "outputs": [],
   "source": [
    "df.loc['first':'third']"
   ]
  },
  {
   "cell_type": "code",
   "execution_count": null,
   "metadata": {},
   "outputs": [],
   "source": [
    "df.loc['first', 'letter']"
   ]
  },
  {
   "cell_type": "code",
   "execution_count": null,
   "metadata": {},
   "outputs": [],
   "source": [
    "df.loc[['first'], ['letter']]"
   ]
  },
  {
   "cell_type": "code",
   "execution_count": null,
   "metadata": {},
   "outputs": [],
   "source": [
    "df.loc[['first', 'second'], ['letter']]"
   ]
  },
  {
   "cell_type": "code",
   "execution_count": null,
   "metadata": {},
   "outputs": [],
   "source": [
    "df.loc[['letter'], ['first', 'second']]"
   ]
  },
  {
   "cell_type": "markdown",
   "metadata": {},
   "source": [
    "#### Utilisation de iloc : "
   ]
  },
  {
   "cell_type": "markdown",
   "metadata": {},
   "source": [
    "Cherchons à obtenir les mêmes résultats qu'avec loc"
   ]
  },
  {
   "cell_type": "code",
   "execution_count": null,
   "metadata": {},
   "outputs": [],
   "source": [
    "df.iloc[0]"
   ]
  },
  {
   "cell_type": "code",
   "execution_count": null,
   "metadata": {},
   "outputs": [],
   "source": [
    "df.iloc[0:3]"
   ]
  },
  {
   "cell_type": "code",
   "execution_count": null,
   "metadata": {},
   "outputs": [],
   "source": [
    "df.iloc[0,0]"
   ]
  },
  {
   "cell_type": "code",
   "execution_count": null,
   "metadata": {},
   "outputs": [],
   "source": [
    "df.iloc[[0],[0]]"
   ]
  },
  {
   "cell_type": "code",
   "execution_count": null,
   "metadata": {},
   "outputs": [],
   "source": [
    "df.iloc[0:2, [0]]"
   ]
  },
  {
   "cell_type": "code",
   "execution_count": null,
   "metadata": {},
   "outputs": [],
   "source": [
    "df.iloc[[0], [0,1]]"
   ]
  },
  {
   "cell_type": "markdown",
   "metadata": {},
   "source": [
    "#### Utilisation de ix"
   ]
  },
  {
   "cell_type": "markdown",
   "metadata": {},
   "source": [
    "ix est un opérateur capable de mixer labels et index.\n",
    "\n",
    "Six cas peuvent se présenter :\n",
    "\n",
    "* label et label : le premier label sera identifié comme l'index d'une ligne"
   ]
  },
  {
   "cell_type": "code",
   "execution_count": null,
   "metadata": {},
   "outputs": [],
   "source": [
    "df.ix[['first'], ['letter']]"
   ]
  },
  {
   "cell_type": "code",
   "execution_count": null,
   "metadata": {},
   "outputs": [],
   "source": [
    "df.ix[['letter'], ['first']]"
   ]
  },
  {
   "cell_type": "markdown",
   "metadata": {},
   "source": [
    "* label et index : le label sera identifié comme l'index d'une ligne, l'index sera la position de la colonne"
   ]
  },
  {
   "cell_type": "code",
   "execution_count": null,
   "metadata": {},
   "outputs": [],
   "source": [
    "df.ix[['first'], [0]]"
   ]
  },
  {
   "cell_type": "code",
   "execution_count": null,
   "metadata": {},
   "outputs": [],
   "source": [
    "df.ix[['letter'], [0]]"
   ]
  },
  {
   "cell_type": "markdown",
   "metadata": {},
   "source": [
    "* index et label : l'index sera identifié comme la position d'une ligne, le label sera associé à la colonne correspondante"
   ]
  },
  {
   "cell_type": "code",
   "execution_count": null,
   "metadata": {},
   "outputs": [],
   "source": [
    "df.ix[[0], ['letter']]"
   ]
  },
  {
   "cell_type": "code",
   "execution_count": null,
   "metadata": {},
   "outputs": [],
   "source": [
    "df.ix[[0], ['first']]"
   ]
  },
  {
   "cell_type": "markdown",
   "metadata": {},
   "source": [
    "* index et index : le premier index sera identifié comme la position d'une ligne"
   ]
  },
  {
   "cell_type": "code",
   "execution_count": null,
   "metadata": {},
   "outputs": [],
   "source": [
    "df.ix[[0], [1]]"
   ]
  },
  {
   "cell_type": "code",
   "execution_count": null,
   "metadata": {},
   "outputs": [],
   "source": [
    "df.ix[[1], [0]]"
   ]
  },
  {
   "cell_type": "markdown",
   "metadata": {},
   "source": [
    "* label : ce sera le label d'une ligne qui sera recherchée"
   ]
  },
  {
   "cell_type": "code",
   "execution_count": null,
   "metadata": {},
   "outputs": [],
   "source": [
    "df.ix[['first']]"
   ]
  },
  {
   "cell_type": "code",
   "execution_count": null,
   "metadata": {},
   "outputs": [],
   "source": [
    "df.ix[:, ['letter']]"
   ]
  },
  {
   "cell_type": "markdown",
   "metadata": {},
   "source": [
    "* index : ce sera la position d'une ligne qui sera recherchée"
   ]
  },
  {
   "cell_type": "code",
   "execution_count": null,
   "metadata": {},
   "outputs": [],
   "source": [
    "df.ix[[0]]"
   ]
  },
  {
   "cell_type": "code",
   "execution_count": null,
   "metadata": {},
   "outputs": [],
   "source": [
    "df.ix[:, [0]]"
   ]
  },
  {
   "cell_type": "markdown",
   "metadata": {},
   "source": [
    "#### L'indexation logique"
   ]
  },
  {
   "cell_type": "code",
   "execution_count": null,
   "metadata": {},
   "outputs": [],
   "source": [
    "df[df > 2]"
   ]
  },
  {
   "cell_type": "code",
   "execution_count": null,
   "metadata": {},
   "outputs": [],
   "source": [
    "df[df['one'] > 2]"
   ]
  },
  {
   "cell_type": "code",
   "execution_count": null,
   "metadata": {},
   "outputs": [],
   "source": [
    "df.where(df > 2, -1)"
   ]
  },
  {
   "cell_type": "code",
   "execution_count": null,
   "metadata": {},
   "outputs": [],
   "source": [
    "df['two'] = df.ix[:, 2].where(df['two'] > 7, -1)\n",
    "df"
   ]
  },
  {
   "cell_type": "markdown",
   "metadata": {},
   "source": [
    "### Fonctions usuelles"
   ]
  },
  {
   "cell_type": "code",
   "execution_count": null,
   "metadata": {},
   "outputs": [],
   "source": [
    "df.describe()"
   ]
  },
  {
   "cell_type": "code",
   "execution_count": null,
   "metadata": {},
   "outputs": [],
   "source": [
    "df.sort_index(axis=1, ascending=False)"
   ]
  },
  {
   "cell_type": "code",
   "execution_count": null,
   "metadata": {},
   "outputs": [],
   "source": [
    "df[df > 2].dropna(how='any') # par ligne"
   ]
  },
  {
   "cell_type": "code",
   "execution_count": null,
   "metadata": {},
   "outputs": [],
   "source": [
    "df[df > 2].dropna(how='all') # par colonne"
   ]
  },
  {
   "cell_type": "code",
   "execution_count": null,
   "metadata": {},
   "outputs": [],
   "source": [
    "df[df > 2].fillna(value=-1)"
   ]
  },
  {
   "cell_type": "markdown",
   "metadata": {},
   "source": [
    "#### groupby, apply et les lambda functions"
   ]
  },
  {
   "cell_type": "markdown",
   "metadata": {},
   "source": [
    "La méthode groupby crée un objet itérable qui regroupe les lignes d'un dataframe selon une caractéristique commune suivant une ou plusieurs colonnes.\n",
    "La méthode apply d'un dataframe permet d'appliquer une fonction sur ses éléments (d'un groupby, mais aussi d'un dataframe).\n",
    "Le principal intérêt est d'appliquer une *lambda function* : fonction simple définie par l'utilisateur\n",
    "\n",
    "    lamba x, y : x*y, x**y\n",
    "    \n",
    "*Rappel : tout autre type de fonction (définie par def, ou bien fonction d'un module comme numpy.sin) peut être appliquée de cette façon.*"
   ]
  },
  {
   "cell_type": "code",
   "execution_count": null,
   "metadata": {},
   "outputs": [],
   "source": [
    "df['one'].apply(lambda x : str(x)+'_str')"
   ]
  },
  {
   "cell_type": "code",
   "execution_count": null,
   "metadata": {},
   "outputs": [],
   "source": [
    "df['one'].apply(np.exp)"
   ]
  },
  {
   "cell_type": "code",
   "execution_count": null,
   "metadata": {},
   "outputs": [],
   "source": [
    "group = df.groupby(['letter'])\n",
    "\n",
    "for key, value in group:\n",
    "    print value"
   ]
  },
  {
   "cell_type": "code",
   "execution_count": null,
   "metadata": {},
   "outputs": [],
   "source": [
    "group[['one', 'two']].apply(lambda x : x.mean() / x.std())"
   ]
  },
  {
   "cell_type": "markdown",
   "metadata": {},
   "source": [
    "Attention, apply agrège les données ! Pour conserver un DataFrame de même taille, il faut utiliser transform"
   ]
  },
  {
   "cell_type": "code",
   "execution_count": null,
   "metadata": {},
   "outputs": [],
   "source": [
    "group[['one', 'two']].transform(lambda x : x.mean() / x.std())"
   ]
  },
  {
   "cell_type": "markdown",
   "metadata": {},
   "source": [
    "#### Analyse graphique"
   ]
  },
  {
   "cell_type": "code",
   "execution_count": null,
   "metadata": {},
   "outputs": [],
   "source": [
    "dataExcel[['Param 9', 'Param 12']].boxplot(rot=90);"
   ]
  },
  {
   "cell_type": "code",
   "execution_count": null,
   "metadata": {},
   "outputs": [],
   "source": [
    "dataExcel.groupby('Param 1').aggregate([np.mean, lambda x : 0.05*x])['Param 12'].plot(y='mean', linestyle='--', figsize=(12,12))"
   ]
  },
  {
   "cell_type": "code",
   "execution_count": null,
   "metadata": {},
   "outputs": [],
   "source": []
  },
  {
   "cell_type": "code",
   "execution_count": null,
   "metadata": {},
   "outputs": [],
   "source": []
  },
  {
   "cell_type": "code",
   "execution_count": null,
   "metadata": {},
   "outputs": [],
   "source": []
  },
  {
   "cell_type": "code",
   "execution_count": null,
   "metadata": {},
   "outputs": [],
   "source": [
    "\n"
   ]
  },
  {
   "cell_type": "code",
   "execution_count": null,
   "metadata": {},
   "outputs": [],
   "source": []
  },
  {
   "cell_type": "code",
   "execution_count": null,
   "metadata": {},
   "outputs": [],
   "source": []
  },
  {
   "cell_type": "code",
   "execution_count": null,
   "metadata": {},
   "outputs": [],
   "source": []
  },
  {
   "cell_type": "code",
   "execution_count": null,
   "metadata": {},
   "outputs": [],
   "source": []
  },
  {
   "cell_type": "code",
   "execution_count": null,
   "metadata": {},
   "outputs": [],
   "source": []
  }
 ],
 "metadata": {
  "kernelspec": {
   "display_name": "Python 3",
   "language": "python",
   "name": "python3"
  },
  "language_info": {
   "codemirror_mode": {
    "name": "ipython",
    "version": 3
   },
   "file_extension": ".py",
   "mimetype": "text/x-python",
   "name": "python",
   "nbconvert_exporter": "python",
   "pygments_lexer": "ipython3",
   "version": "3.7.6"
  }
 },
 "nbformat": 4,
 "nbformat_minor": 1
}
