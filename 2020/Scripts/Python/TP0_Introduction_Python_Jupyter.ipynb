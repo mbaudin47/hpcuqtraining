{
 "cells": [
  {
   "cell_type": "markdown",
   "metadata": {},
   "source": [
    "# What is Python?"
   ]
  },
  {
   "cell_type": "markdown",
   "metadata": {},
   "source": [
    "It is an interpreted high-level programming language. You can download it from https://www.python.org/.\n",
    "\n",
    "Python itself does not provide many features. It can be enriched by additional libraries.\n",
    "\n",
    "For our purposes, following libraries are commonly used:\n",
    "* numpy (http://www.numpy.org/), for scientific computing on arrays of number\n",
    "* matplotlib (https://matplotlib.org/), to plot data and produce figures for reports and presentations.\n",
    "\n",
    "Other modules are commonly used:\n",
    "* pandas (http://pandas.pydata.org/), to deal with mixed data (text and numerical data) easily.\n",
    "* seaborn (https://seaborn.pydata.org/), based on matpoltib and pandas, to create advanced plots for data analysis.\n",
    "* pathos (https://pathos.readthedocs.io/en/latest/pathos.html), based on the multiprocessing module, very convenient for parallel computing.\n",
    "\n",
    "\n",
    "Python and its libraries are often updated, and it can be hard to manage compatibility between multiple libraries and your version of Python. It can be more convenient to install Anaconda, which can manage you Python environment automatically (https://www.anaconda.com/).\n"
   ]
  },
  {
   "cell_type": "markdown",
   "metadata": {},
   "source": [
    "# How to use it?"
   ]
  },
  {
   "cell_type": "markdown",
   "metadata": {},
   "source": [
    "As an interpreted language, it demands an interpreter. The basic interpreter can be launched with the command (in a terminal) \"python\".\n",
    "\n",
    "![python_basic_interpreter.png](./figures/python_basic_interpreter.png \"intepréteur python\")"
   ]
  },
  {
   "cell_type": "markdown",
   "metadata": {},
   "source": [
    "You can also run a script, for instance \"myPythonScript.py\", with the command \"python myPythonScript.py\".\n",
    "To develop your code, you may need a more interactive way of programming. You can use the library *IPython*, and the more advanced (and complex) *jupyter-notebook*, based on IPython. These tools add many functionalities to make your development easier.\n",
    "![intepréteur ipython.png](./figures/Ipython.png \"intepréteur ipython\")"
   ]
  },
  {
   "cell_type": "markdown",
   "metadata": {},
   "source": [
    "# Jupyter basics"
   ]
  },
  {
   "cell_type": "markdown",
   "metadata": {},
   "source": [
    "Jupyter-notebook is a graphical interface, based on Ipython, to make script prototypes and interactive presentations. A jupyter-notebook is opened in a web navigator, and can be exported in pdf, python script file, html file, etc. It should not be used for complex codes and when dealing with massive amount of data.\n",
    "\n",
    "A notebook is composed of cells. A cell can contain code or text. To see what's behind the cell you are reading, you can double-click on it, or you can navigate the notebook with keyboard's arrows and type Enter on the cell.\n",
    "\n",
    "Basic commands to use the jupyter-notebook :\n",
    "- Edit a cell : Enter (left side of the cell is green)\n",
    "- Run a cell : Shift (hold) + Enter\n",
    "- See the documentation of a function (when cursor is on the name of the function) : Shift (hold) + Tab + Tab.\n",
    "- Delete a cell : escape + d + d\n",
    "- save your notebook: ctrl + s\n",
    "\n",
    "You can have a look on all commands in Help (see top bar of the window).\n",
    "\n",
    "Be careful! You can select and run a cell, in any order you want. This may cause weird behavior if you do not respect the order of cell. To be sure your code behaves well, click on *kernel* button, and on *Restart and clear output*."
   ]
  },
  {
   "cell_type": "markdown",
   "metadata": {},
   "source": [
    "# Python basics"
   ]
  },
  {
   "cell_type": "markdown",
   "metadata": {},
   "source": [
    "### Definition of variables"
   ]
  },
  {
   "cell_type": "code",
   "execution_count": 7,
   "metadata": {},
   "outputs": [],
   "source": [
    "a = 1\n",
    "b = 1.\n",
    "c = 1 + 2 * 1j # complex number\n",
    "d = 'variables'"
   ]
  },
  {
   "cell_type": "markdown",
   "metadata": {},
   "source": [
    "### Add comments"
   ]
  },
  {
   "cell_type": "code",
   "execution_count": 8,
   "metadata": {},
   "outputs": [
    {
     "name": "stdout",
     "output_type": "stream",
     "text": [
      "1\n"
     ]
    }
   ],
   "source": [
    "a = 1\n",
    "# The following instruction is commented\n",
    "#a = 2\n",
    "print(a)"
   ]
  },
  {
   "cell_type": "markdown",
   "metadata": {},
   "source": [
    "### Check variable"
   ]
  },
  {
   "cell_type": "code",
   "execution_count": 10,
   "metadata": {},
   "outputs": [
    {
     "name": "stdout",
     "output_type": "stream",
     "text": [
      "The variable a is a 1 and its value is <class 'int'>\n"
     ]
    }
   ],
   "source": [
    "print('The variable a is a {} and its value is {}'.format(a,type(a)))"
   ]
  },
  {
   "cell_type": "code",
   "execution_count": 11,
   "metadata": {},
   "outputs": [],
   "source": [
    "# Lists\n",
    "a = [1, 2, 3, 4, 5]\n",
    "b = [] # Empty list, useful to initiate it and to fill it later.\n",
    "c = [element for element in range(3)]\n",
    "d = [[1, 2], [1, 2]]"
   ]
  },
  {
   "cell_type": "code",
   "execution_count": 13,
   "metadata": {},
   "outputs": [
    {
     "name": "stdout",
     "output_type": "stream",
     "text": [
      "First element of a = 1\n",
      "Last element of a = 5\n",
      "Two first elements of a = [1, 2]\n",
      "2 by 2 :[1, 3, 5]\n",
      "Reverse order of a :[5, 4, 3, 2, 1]\n",
      "First element of d = [1, 2]\n",
      "Second element of the first element of d = 2\n"
     ]
    }
   ],
   "source": [
    "print('First element of a = {}'.format(a[0]))\n",
    "print('Last element of a = {}'.format(a[-1])) # Pour l'avant-dernier : a[-2]\n",
    "print('Two first elements of a = {}'.format(a[:2])) # ou a[0:2]\n",
    "print('2 by 2 :{}'.format(a[::2]))\n",
    "print('Reverse order of a :{}'.format(a[::-1]))\n",
    "print('First element of d = {}'.format(d[0]))\n",
    "print('Second element of the first element of d = {}'.format(d[0][1]))"
   ]
  },
  {
   "cell_type": "code",
   "execution_count": 14,
   "metadata": {},
   "outputs": [
    {
     "name": "stdout",
     "output_type": "stream",
     "text": [
      "a = {'Stress': 35, 'Unit': 'MPa'}\n",
      "b = {'Stress': 35, 'Unit': 'MPa'}\n"
     ]
    }
   ],
   "source": [
    "# Dictionnary\n",
    "a = {'Stress' : 35,\n",
    "     'Unit' : 'MPa'}\n",
    "\n",
    "b = dict(Stress = 35, Unit = 'MPa')\n",
    "print('a = {}'.format(a))\n",
    "print('b = {}'.format(b))"
   ]
  },
  {
   "cell_type": "code",
   "execution_count": 15,
   "metadata": {},
   "outputs": [
    {
     "name": "stdout",
     "output_type": "stream",
     "text": [
      "a = {'Stress': 35000000.0, 'Unit': 'Pa'}\n",
      "b = {'Stress': 35, 'Unit': 'MPa'}\n"
     ]
    }
   ],
   "source": [
    "a['Stress'] = a['Stress'] * 1e6\n",
    "a['Unit'] = 'Pa'\n",
    "\n",
    "print('a = {}'.format(a))\n",
    "print('b = {}'.format(b))"
   ]
  },
  {
   "cell_type": "markdown",
   "metadata": {},
   "source": [
    "### Conditional structure"
   ]
  },
  {
   "cell_type": "code",
   "execution_count": 17,
   "metadata": {},
   "outputs": [
    {
     "name": "stdout",
     "output_type": "stream",
     "text": [
      "Good Night\n"
     ]
    }
   ],
   "source": [
    "variable = 3\n",
    "\n",
    "if variable == 1:\n",
    "    print('Good Morning')\n",
    "elif variable == 2:\n",
    "    print('Good Evening')\n",
    "else:\n",
    "    print('Good Night')"
   ]
  },
  {
   "cell_type": "markdown",
   "metadata": {},
   "source": [
    "### Loops (for and while)"
   ]
  },
  {
   "cell_type": "code",
   "execution_count": 18,
   "metadata": {},
   "outputs": [
    {
     "name": "stdout",
     "output_type": "stream",
     "text": [
      "(2 x 2) + 2 = 6\n",
      "(2 x 3) + 3 = 9\n",
      "(2 x 4) + 4 = 12\n",
      "(2 x 5) + 5 = 15\n",
      "(2 x 6) + 6 = 18\n",
      "(2 x 7) + 7 = 21\n",
      "(2 x 8) + 8 = 24\n",
      "(2 x 9) + 9 = 27\n"
     ]
    }
   ],
   "source": [
    "# be careful, indentation is meaningful\n",
    "for i in range(2, 10, 1):\n",
    "    a = 2 * i\n",
    "    b = a + i\n",
    "    print('(2 x {}) + {} = {}'.format(i,i,b))"
   ]
  },
  {
   "cell_type": "code",
   "execution_count": 28,
   "metadata": {},
   "outputs": [
    {
     "name": "stdout",
     "output_type": "stream",
     "text": [
      "variable = [0, 2, 4, 6, 8]\n",
      "type de variable : <class 'list'>\n"
     ]
    }
   ],
   "source": [
    "variable = [i for i in range(10) if not i % 2] # to clarify (not 0 is True)\n",
    "variable = [i for i in range(10) if i % 2 == 0]\n",
    "print('variable = {}'.format(variable))\n",
    "print('type de variable : {}'.format(type(variable)))"
   ]
  },
  {
   "cell_type": "code",
   "execution_count": 32,
   "metadata": {},
   "outputs": [
    {
     "name": "stdout",
     "output_type": "stream",
     "text": [
      "1\n",
      "<class 'int'>\n",
      "How are you doing ?\n",
      "<class 'str'>\n",
      "Ok nice, see you later then !\n",
      "<class 'str'>\n"
     ]
    }
   ],
   "source": [
    "liste = [1, 'How are you doing ?', 'Ok nice, see you later then !']\n",
    "for string in liste:\n",
    "    print(string)\n",
    "    print(type(string))"
   ]
  },
  {
   "cell_type": "code",
   "execution_count": 33,
   "metadata": {},
   "outputs": [
    {
     "name": "stdout",
     "output_type": "stream",
     "text": [
      "hello World\n",
      "hello World\n"
     ]
    }
   ],
   "source": [
    "i = 0\n",
    "while i < 2:\n",
    "    print('hello World')\n",
    "    i += 1 # This is a comment\n",
    "    # i += 1 means i + 1"
   ]
  },
  {
   "cell_type": "markdown",
   "metadata": {},
   "source": [
    "### Operation on numerical data"
   ]
  },
  {
   "cell_type": "code",
   "execution_count": 34,
   "metadata": {},
   "outputs": [
    {
     "name": "stdout",
     "output_type": "stream",
     "text": [
      "5 5.0\n",
      "1.5 1.5\n"
     ]
    }
   ],
   "source": [
    "# addition\n",
    "addition = 3 + 2\n",
    "addition_float = 3. + 2.\n",
    "\n",
    "print(addition, addition_float)\n",
    "\n",
    "# multiplication and division\n",
    "multip = 3 * 2\n",
    "division = 3 / 2\n",
    "division_float = 3. / 2.\n",
    "print(division, division_float)\n",
    "\n",
    "# for advanced math functions, the library 'math' should be called\n",
    "import math\n",
    "exponent_of_three = math.exp(3)"
   ]
  },
  {
   "cell_type": "markdown",
   "metadata": {},
   "source": [
    "### Function"
   ]
  },
  {
   "cell_type": "code",
   "execution_count": 39,
   "metadata": {},
   "outputs": [],
   "source": [
    "def compute_power(number, power):\n",
    "    \"\"\"\n",
    "    Compute the power of a number.\n",
    "\n",
    "    \n",
    "    -- Arguments--\n",
    "    number -- Float, the number to be raised at the power 'power'\n",
    "    power -- Float\n",
    "    \n",
    "    \n",
    "    -- Outputs --\n",
    "    powered_number -- Float, the result of numberower\n",
    "    \n",
    "    -- Example --\n",
    "    To compute 1²:\n",
    "    result = compute_power(1.,2.)\n",
    "    \"\"\"\n",
    "    powered_number = number ** power\n",
    "    return powered_number"
   ]
  },
  {
   "cell_type": "code",
   "execution_count": 40,
   "metadata": {},
   "outputs": [
    {
     "name": "stdout",
     "output_type": "stream",
     "text": [
      "1.0\n"
     ]
    }
   ],
   "source": [
    "result = compute_power(0.,0.)\n",
    "print(result)"
   ]
  },
  {
   "cell_type": "markdown",
   "metadata": {},
   "source": [
    "### Class"
   ]
  },
  {
   "cell_type": "code",
   "execution_count": 42,
   "metadata": {},
   "outputs": [],
   "source": [
    "class Power():\n",
    "    def __init__(self, power):\n",
    "        \"\"\"\n",
    "        \n",
    "        \"\"\"\n",
    "        self.power = power # power is now an attribute of the class Power\n",
    "    \n",
    "    def compute_power(self, number):\n",
    "        \"\"\"\n",
    "        Compute the power of a number.\n",
    "        \n",
    "        -- Arguments--\n",
    "        number -- Float, the number to be raised at the power 'power'\n",
    "        \n",
    "        -- Outputs --\n",
    "        powered_number -- Float, the result of numberower\n",
    "        \"\"\"\n",
    "        powered_number = number ** self.power\n",
    "        return powered_number\n"
   ]
  },
  {
   "cell_type": "code",
   "execution_count": 43,
   "metadata": {},
   "outputs": [
    {
     "name": "stdout",
     "output_type": "stream",
     "text": [
      "3^2 = 9\n",
      "power = 2\n",
      "power = 3\n"
     ]
    }
   ],
   "source": [
    "# The object is an instance of the class power\n",
    "obj_power = Power(power=2)\n",
    "\n",
    "# Access to method compute_power.\n",
    "result = obj_power.compute_power(number=3)\n",
    "print('3^2 = {}'.format(result))\n",
    "\n",
    "\n",
    "# Check the attribute 'power'\n",
    "print('power = {}'.format(obj_power.power))\n",
    "\n",
    "# Modify it\n",
    "obj_power.power = 3\n",
    "print('power = {}'.format(obj_power.power))"
   ]
  },
  {
   "cell_type": "markdown",
   "metadata": {},
   "source": [
    "# Numpy"
   ]
  },
  {
   "cell_type": "code",
   "execution_count": 46,
   "metadata": {},
   "outputs": [],
   "source": [
    "# to import numpy with the alias np\n",
    "import numpy as np"
   ]
  },
  {
   "cell_type": "code",
   "execution_count": 47,
   "metadata": {},
   "outputs": [],
   "source": [
    "# now you can call numpy's functions by using np.\n",
    "# for instance, to create a vector:\n",
    "vector = np.array([1., -2., 3.5]) # vecteur {1, 2, 3}"
   ]
  },
  {
   "cell_type": "code",
   "execution_count": 48,
   "metadata": {},
   "outputs": [],
   "source": [
    "matrix2 = np.array([[1, 2], [2, 1]]) # matrix [1, 2 // 2, 1]\n",
    "\n",
    "matrix3 = np.array([\n",
    "                    [[1, 2], [1, 2]],\n",
    "                    [[1, 2], [1, 2]]\n",
    "                   ]) # matrix 3D"
   ]
  },
  {
   "cell_type": "code",
   "execution_count": 56,
   "metadata": {},
   "outputs": [],
   "source": [
    "# here are some array generators, you can test them\n",
    "zero_matrix = np.zeros((3, 3), dtype=float)\n",
    "linspace_vector = np.linspace(1, 9, 9)\n",
    "sequence_vector = np.arange(6)\n",
    "unity_matrix = np.ones((5,5))\n",
    "identity_matrix = np.eye(5)\n",
    "\n",
    "# you modify the dimensions of an array\n",
    "matrix = linspace_vector.reshape(3, 3, order='C')"
   ]
  },
  {
   "cell_type": "code",
   "execution_count": 57,
   "metadata": {},
   "outputs": [
    {
     "data": {
      "text/plain": [
       "array([1., 2., 3., 4., 5., 6., 7., 8., 9.])"
      ]
     },
     "execution_count": 57,
     "metadata": {},
     "output_type": "execute_result"
    }
   ],
   "source": [
    "linspace_vector"
   ]
  },
  {
   "cell_type": "code",
   "execution_count": 58,
   "metadata": {},
   "outputs": [
    {
     "name": "stdout",
     "output_type": "stream",
     "text": [
      "[[1. 2. 3.]\n",
      " [4. 5. 6.]\n",
      " [7. 8. 9.]]\n"
     ]
    }
   ],
   "source": [
    "print(matrix)"
   ]
  },
  {
   "cell_type": "code",
   "execution_count": 59,
   "metadata": {},
   "outputs": [
    {
     "name": "stdout",
     "output_type": "stream",
     "text": [
      "First element of a vector = 1.0\n",
      "last element of a vector  = 9.0\n",
      "Two first elements of a vector = [1. 2.]\n",
      "2 by 2 = [1. 3. 5. 7. 9.]\n",
      "From last element = [9. 8. 7. 6. 5. 4. 3. 2. 1.]\n",
      "Element (11) of a matrix = 1.0\n",
      "sub-matrix = \n",
      " [[5. 6.]\n",
      " [8. 9.]]\n",
      "another sub-matrix = \n",
      " [[4. 5. 6.]\n",
      " [7. 8. 9.]]\n"
     ]
    }
   ],
   "source": [
    "# access to elements\n",
    "print('First element of a vector = {}'.format(linspace_vector[0]))                       \n",
    "print('last element of a vector  = {}'.format(linspace_vector[-1]))                        \n",
    "print('Two first elements of a vector = {}'.format(linspace_vector[:2]))                       \n",
    "print('2 by 2 = {}'.format(linspace_vector[::2]))                       \n",
    "print('From last element = {}'.format(linspace_vector[::-1]))    \n",
    "print('Element (11) of a matrix = {}'.format(matrix[0, 0]))                       \n",
    "print('sub-matrix = \\n {}'.format( matrix[1:, 1:]))                      \n",
    "print('another sub-matrix = \\n {}'.format(matrix[1:, :]))                       "
   ]
  },
  {
   "cell_type": "code",
   "execution_count": 60,
   "metadata": {},
   "outputs": [
    {
     "name": "stdout",
     "output_type": "stream",
     "text": [
      "vector1 + scalar = \n",
      " [5. 6. 7. 8.]\n",
      "vector2 * scalar = \n",
      " [[ 0.]\n",
      " [ 5.]\n",
      " [10.]\n",
      " [15.]]\n",
      "vector1 + vector2 = \n",
      " [[0 1 2 3]\n",
      " [1 2 3 4]\n",
      " [2 3 4 5]\n",
      " [3 4 5 6]]\n",
      "vector1 * vector2 = \n",
      " [[0 0 0 0]\n",
      " [0 1 2 3]\n",
      " [0 2 4 6]\n",
      " [0 3 6 9]]\n"
     ]
    }
   ],
   "source": [
    "# operations\n",
    "scalar = 5.\n",
    "vect1 = np.array([0, 1, 2, 3])\n",
    "vect2 = np.array([[0], [1], [2], [3]])\n",
    "\n",
    "print('vector1 + scalar = \\n {}'.format(vect1 + scalar))\n",
    "print('vector2 * scalar = \\n {}'.format(vect2 * scalar))\n",
    "print('vector1 + vector2 = \\n {}'.format(vect1 + vect2))\n",
    "print('vector1 * vector2 = \\n {}'.format(vect1 * vect2))"
   ]
  },
  {
   "cell_type": "code",
   "execution_count": 63,
   "metadata": {},
   "outputs": [
    {
     "data": {
      "text/plain": [
       "array([[0],\n",
       "       [1],\n",
       "       [2],\n",
       "       [3]])"
      ]
     },
     "execution_count": 63,
     "metadata": {},
     "output_type": "execute_result"
    }
   ],
   "source": [
    "vect2"
   ]
  },
  {
   "cell_type": "code",
   "execution_count": 64,
   "metadata": {},
   "outputs": [
    {
     "name": "stdout",
     "output_type": "stream",
     "text": [
      "matrix1 = \n",
      " [[1 2 3]\n",
      " [0 4 5]\n",
      " [0 0 6]]\n",
      "matrix1 * matrix1.T = \n",
      " [[14 23 18]\n",
      " [23 41 30]\n",
      " [18 30 36]]\n",
      "matrix1 * matrix1.T = \n",
      " [[14 23 18]\n",
      " [23 41 30]\n",
      " [18 30 36]]\n"
     ]
    }
   ],
   "source": [
    "matrix1 = np.matrix([[1, 2, 3], [0, 4, 5], [0, 0, 6]])\n",
    "array1 = np.array([[1, 2, 3], [0, 4, 5], [0, 0, 6]])\n",
    "print('matrix1 = \\n {}'.format(matrix1))\n",
    "print('matrix1 * matrix1.T = \\n {}'.format(matrix1 * matrix1.T)) # T to transpose\n",
    "print('matrix1 * matrix1.T = \\n {}'.format(np.dot(array1, array1.T)))"
   ]
  },
  {
   "cell_type": "markdown",
   "metadata": {},
   "source": [
    "# Matplotlib\n",
    "Matplotlib provides tools to plot data."
   ]
  },
  {
   "cell_type": "code",
   "execution_count": 65,
   "metadata": {},
   "outputs": [],
   "source": [
    "import matplotlib.pyplot as plt\n",
    "import numpy as np"
   ]
  },
  {
   "cell_type": "code",
   "execution_count": 67,
   "metadata": {},
   "outputs": [],
   "source": [
    "# Data for plotting\n",
    "time = np.arange(0.0, 2.0, 0.01)\n",
    "voltage = 1 + np.sin(2 * np.pi * time)"
   ]
  },
  {
   "cell_type": "code",
   "execution_count": 68,
   "metadata": {},
   "outputs": [
    {
     "data": {
      "image/png": "[encoded data removed]",
      "text/plain": [
       "<Figure size 432x288 with 1 Axes>"
      ]
     },
     "metadata": {
      "needs_background": "light"
     },
     "output_type": "display_data"
    }
   ],
   "source": [
    "fig, ax = plt.subplots()\n",
    "ax.plot(time, voltage)\n",
    "\n",
    "ax.set(xlabel='time (s)', ylabel='voltage (mV)',\n",
    "       title='Matplotlib example - sinus function')\n",
    "ax.grid()\n",
    "\n",
    "fig.savefig(\"test.png\") # to save the figure in a .png file\n",
    "plt.show()"
   ]
  },
  {
   "cell_type": "code",
   "execution_count": 69,
   "metadata": {},
   "outputs": [
    {
     "data": {
      "image/png": "[encoded data removed]",
      "text/plain": [
       "<Figure size 432x288 with 1 Axes>"
      ]
     },
     "metadata": {
      "needs_background": "light"
     },
     "output_type": "display_data"
    }
   ],
   "source": [
    "# make a scatter plot\n",
    "fig, ax = plt.subplots()\n",
    "ax.scatter(time, voltage)\n",
    "\n",
    "ax.set_xlabel(r'Time $t_i$ in second', fontsize=15)\n",
    "ax.set_ylabel('voltage (mV)', fontsize=15)\n",
    "ax.set_title('Matplotlib example - sinus function')\n",
    "\n",
    "ax.grid(True)\n",
    "fig.tight_layout()\n",
    "\n",
    "plt.show()"
   ]
  },
  {
   "cell_type": "code",
   "execution_count": null,
   "metadata": {},
   "outputs": [],
   "source": []
  }
 ],
 "metadata": {
  "kernelspec": {
   "display_name": "Python 3",
   "language": "python",
   "name": "python3"
  },
  "language_info": {
   "codemirror_mode": {
    "name": "ipython",
    "version": 3
   },
   "file_extension": ".py",
   "mimetype": "text/x-python",
   "name": "python",
   "nbconvert_exporter": "python",
   "pygments_lexer": "ipython3",
   "version": "3.7.6"
  }
 },
 "nbformat": 4,
 "nbformat_minor": 2
}
