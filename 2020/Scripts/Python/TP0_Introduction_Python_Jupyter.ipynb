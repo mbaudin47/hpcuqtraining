{
 "cells": [
  {
   "cell_type": "markdown",
   "metadata": {},
   "source": [
    "# What is Python?"
   ]
  },
  {
   "cell_type": "markdown",
   "metadata": {},
   "source": [
    "It is an interpreted high-level programming language. It is available at https://www.python.org/.\n",
    "\n",
    "Python itself does not provide many features. It can be enriched by additional libraries.\n",
    "\n",
    "For our purposes, following libraries are commonly used:\n",
    "* numpy (http://www.numpy.org/), for scientific computing on arrays of number\n",
    "* pandas (http://pandas.pydata.org/), to deal with mixed data (text and numerical data) easily.\n",
    "* matplotlib (https://matplotlib.org/), to plot data and produce figures for reports and presentations.\n",
    "\n",
    "Python and its libraries are often updated, and it can be hard to manage compatibility between multiple libraries and your version of Python. It can be more convenient to install Anaconda, which can manage you Python environment automatically (https://www.anaconda.com/).\n"
   ]
  },
  {
   "cell_type": "markdown",
   "metadata": {},
   "source": [
    "# How to use it?"
   ]
  },
  {
   "cell_type": "markdown",
   "metadata": {},
   "source": [
    "As an interpreted language, it demands an interpreter. The basic interpreter can be launched with the command (in a terminal) \"python\".\n",
    "\n",
    "![python_basic_interpreter.png](./figures/python_basic_interpreter.png \"intepréteur python\")"
   ]
  },
  {
   "cell_type": "markdown",
   "metadata": {},
   "source": [
    "You can also run a script, for instance \"myPythonScript.py\", with the command \"python myPythonScript.py\".\n",
    "To develop your code, you may need a more interactive way of programming. You can use the library *IPython*, and the more advanced (and complex) *jupyter-notebook*, based on IPython. These tools add many functionalities to make your development easier.\n",
    "![intepréteur ipython.png](./figures/Ipython.png \"intepréteur ipython\")"
   ]
  },
  {
   "cell_type": "markdown",
   "metadata": {},
   "source": [
    "# Jupyter basics"
   ]
  },
  {
   "cell_type": "markdown",
   "metadata": {},
   "source": [
    "Jupyter-notebook is a graphical interface, based on Ipython, to make script prototypes and interactive presentation. A jupyter-notebook opens in web navigator, and can be exported in pdf, python script file, etc. It should not be used for complex codes and when dealing with massive amount of data.\n",
    "\n",
    "A notebook is composed of cells. A cell can contain code or text. To see what's behind the cell you are reading, you can double-click on it, or you can navigate the notebook with keyboard's arrows and type Enter on the cell.\n",
    "\n",
    "Basic commands to use the jupyter-notebook :\n",
    "- Edit a cell : Enter (left side of the cell is green)\n",
    "- Run a cell : Shift (hold) + Enter\n",
    "- See the documentation of a function (when cursor is on the name of the function) : Shift (hold) + Tab + Tab.\n",
    "- Delete a cell : escape + d + d\n",
    "- save your notebook: ctrl + s\n",
    "\n",
    "You can have a look on all commands in Help (see top bar of the window).\n",
    "\n",
    "Be careful! You can select and run a cell, in any order you want. This may cause weird behavior if you do not respect the order of cell. To be sure your code behaves well, click on *kernel* button, and on *Restart and clear output*."
   ]
  },
  {
   "cell_type": "markdown",
   "metadata": {},
   "source": [
    "# Python basics"
   ]
  },
  {
   "cell_type": "markdown",
   "metadata": {},
   "source": [
    "### Definition of variables"
   ]
  },
  {
   "cell_type": "code",
   "execution_count": 20,
   "metadata": {},
   "outputs": [],
   "source": [
    "a = 1\n",
    "b = 1.\n",
    "c = 1 + 2 * 1j\n",
    "d = 'variables'"
   ]
  },
  {
   "cell_type": "markdown",
   "metadata": {},
   "source": [
    "### Check variable"
   ]
  },
  {
   "cell_type": "code",
   "execution_count": 21,
   "metadata": {},
   "outputs": [
    {
     "name": "stdout",
     "output_type": "stream",
     "text": [
      "The variable a is a 1 and its value is <class 'int'>\n"
     ]
    }
   ],
   "source": [
    "print('The variable a is a {} and its value is {}'.format(a,type(a)))"
   ]
  },
  {
   "cell_type": "code",
   "execution_count": 22,
   "metadata": {},
   "outputs": [],
   "source": [
    "# Lists\n",
    "a = [1, 2, 3, 4, 5]\n",
    "b = [] # Empty list, useful to initiate it and to fill it later.\n",
    "c = [element for element in range(3)]\n",
    "d = [[1, 2], [1, 2]]"
   ]
  },
  {
   "cell_type": "code",
   "execution_count": 27,
   "metadata": {},
   "outputs": [
    {
     "name": "stdout",
     "output_type": "stream",
     "text": [
      "First element of a = 1\n",
      "Last element of a = 5\n",
      "Two first elements of a = [1, 2]\n",
      "2 by 2 :[1, 3, 5]\n",
      "Reverse order of a :[5, 4, 3, 2, 1]\n",
      "First element of d = [1, 2]\n",
      "Second element of the first element of d = 2\n"
     ]
    }
   ],
   "source": [
    "print('First element of a = {}'.format(a[0]))\n",
    "print('Last element of a = {}'.format(a[-1])) # Pour l'avant-dernier : a[-2]\n",
    "print('Two first elements of a = {}'.format(a[:2])) # ou a[0:2]\n",
    "print('2 by 2 :{}'.format(a[::2]))\n",
    "print('Reverse order of a :{}'.format(a[::-1]))\n",
    "print('First element of d = {}'.format(d[0]))\n",
    "print('Second element of the first element of d = {}'.format(d[0][1]))"
   ]
  },
  {
   "cell_type": "code",
   "execution_count": 28,
   "metadata": {},
   "outputs": [
    {
     "name": "stdout",
     "output_type": "stream",
     "text": [
      "a = {'Stress': 35, 'Unit': 'MPa'}\n",
      "b = {'Stress': 35, 'Unit': 'MPa'}\n"
     ]
    }
   ],
   "source": [
    "# Dictionnary\n",
    "a = {'Stress' : 35,\n",
    "     'Unit' : 'MPa'}\n",
    "\n",
    "b = dict(Stress = 35, Unit = 'MPa')\n",
    "print('a = {}'.format(a))\n",
    "print('b = {}'.format(b))"
   ]
  },
  {
   "cell_type": "code",
   "execution_count": 29,
   "metadata": {},
   "outputs": [
    {
     "name": "stdout",
     "output_type": "stream",
     "text": [
      "a = {'Stress': 35000000.0, 'Unit': 'Pa'}\n",
      "b = {'Stress': 35, 'Unit': 'MPa'}\n"
     ]
    }
   ],
   "source": [
    "a['Stress'] = a['Stress'] * 1e6\n",
    "a['Unit'] = 'Pa'\n",
    "\n",
    "print('a = {}'.format(a))\n",
    "print('b = {}'.format(b))"
   ]
  },
  {
   "cell_type": "markdown",
   "metadata": {},
   "source": [
    "### Operation on numerical data"
   ]
  },
  {
   "cell_type": "code",
   "execution_count": null,
   "metadata": {},
   "outputs": [],
   "source": []
  },
  {
   "cell_type": "markdown",
   "metadata": {},
   "source": [
    "### Conditional structure"
   ]
  },
  {
   "cell_type": "code",
   "execution_count": null,
   "metadata": {},
   "outputs": [],
   "source": [
    "variable = 1\n",
    "\n",
    "if variable == 1:\n",
    "    print('Good Morning')\n",
    "elif variable == 2:\n",
    "    print('Good Evening')\n",
    "else:\n",
    "    print('Good Night')"
   ]
  },
  {
   "cell_type": "markdown",
   "metadata": {},
   "source": [
    "### Loops (for and while)"
   ]
  },
  {
   "cell_type": "code",
   "execution_count": 30,
   "metadata": {},
   "outputs": [
    {
     "name": "stdout",
     "output_type": "stream",
     "text": [
      "(2 x 2) + 2 = 6\n",
      "(2 x 3) + 3 = 9\n",
      "(2 x 4) + 4 = 12\n",
      "(2 x 5) + 5 = 15\n",
      "(2 x 6) + 6 = 18\n",
      "(2 x 7) + 7 = 21\n",
      "(2 x 8) + 8 = 24\n",
      "(2 x 9) + 9 = 27\n"
     ]
    }
   ],
   "source": [
    "# be careful, indentation is meaningful\n",
    "for i in range(2, 10, 1):\n",
    "    a = 2 * i\n",
    "    b = a + i\n",
    "    print('(2 x {}) + {} = {}'.format(i,i,b))"
   ]
  },
  {
   "cell_type": "code",
   "execution_count": 32,
   "metadata": {},
   "outputs": [
    {
     "name": "stdout",
     "output_type": "stream",
     "text": [
      "variable = [0, 2, 4, 6, 8]\n",
      "type de variable : <class 'list'>\n"
     ]
    }
   ],
   "source": [
    "variable = [i for i in range(10) if not i % 2]\n",
    "print('variable = {}'.format(variable))\n",
    "print('type de variable : {}'.format(type(variable)))"
   ]
  },
  {
   "cell_type": "code",
   "execution_count": 34,
   "metadata": {},
   "outputs": [
    {
     "name": "stdout",
     "output_type": "stream",
     "text": [
      "Hello\n",
      "How are you doing ?\n",
      "Ok nice, see you later then !\n"
     ]
    }
   ],
   "source": [
    "liste = ['Hello', 'How are you doing ?', 'Ok nice, see you later then !']\n",
    "for string in liste:\n",
    "    print(string)"
   ]
  },
  {
   "cell_type": "code",
   "execution_count": 36,
   "metadata": {},
   "outputs": [
    {
     "name": "stdout",
     "output_type": "stream",
     "text": [
      "hello World\n",
      "hello World\n"
     ]
    }
   ],
   "source": [
    "i = 0\n",
    "while i < 2:\n",
    "    print('hello World')\n",
    "    i += 1 # This is a comment\n",
    "    # i += 1 means i + 1"
   ]
  },
  {
   "cell_type": "markdown",
   "metadata": {},
   "source": [
    "### Operation on numerical data"
   ]
  },
  {
   "cell_type": "markdown",
   "metadata": {},
   "source": [
    "### function"
   ]
  }
 ],
 "metadata": {
  "kernelspec": {
   "display_name": "Python 3",
   "language": "python",
   "name": "python3"
  },
  "language_info": {
   "codemirror_mode": {
    "name": "ipython",
    "version": 3
   },
   "file_extension": ".py",
   "mimetype": "text/x-python",
   "name": "python",
   "nbconvert_exporter": "python",
   "pygments_lexer": "ipython3",
   "version": "3.7.6"
  }
 },
 "nbformat": 4,
 "nbformat_minor": 2
}
