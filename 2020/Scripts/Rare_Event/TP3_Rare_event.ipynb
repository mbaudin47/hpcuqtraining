{
 "cells": [
  {
   "cell_type": "markdown",
   "metadata": {},
   "source": [
    "# Rare event probability estimation\n",
    "\n",
    "This example introduces a few event probability estimation methods implemented in OpenTURNS."
   ]
  },
  {
   "cell_type": "code",
   "execution_count": null,
   "metadata": {},
   "outputs": [],
   "source": [
    "import openturns as ot\n",
    "from openturns.viewer import View\n",
    "%pylab --no-import-all inline"
   ]
  },
  {
   "cell_type": "markdown",
   "metadata": {},
   "source": [
    "# Problem definition\n",
    "\n",
    "# Input probabilistic model"
   ]
  },
  {
   "cell_type": "code",
   "execution_count": null,
   "metadata": {},
   "outputs": [],
   "source": [
    "# get data and estimate a normal distribution\n",
    "sample_E = ot.Sample.ImportFromCSVFile(\"sample_E.csv\") \n",
    "kernel_smoothing = ot.KernelSmoothing(ot.Normal())\n",
    "bandwidth = kernel_smoothing.computeSilvermanBandwidth(sample_E)\n",
    "E = kernel_smoothing.build(sample_E, bandwidth)\n",
    "E.setDescription(['Young modulus'])"
   ]
  },
  {
   "cell_type": "code",
   "execution_count": null,
   "metadata": {},
   "outputs": [],
   "source": [
    "#Load F\n",
    "F = ot.LogNormal()\n",
    "F.setParameter(ot.LogNormalMuSigma()([30000, 9000, 15000]))\n",
    "F.setDescription(['Load'])"
   ]
  },
  {
   "cell_type": "code",
   "execution_count": null,
   "metadata": {},
   "outputs": [],
   "source": [
    "L = ot.Uniform(250, 260)\n",
    "L.setDescription(['Length'])"
   ]
  },
  {
   "cell_type": "code",
   "execution_count": null,
   "metadata": {},
   "outputs": [],
   "source": [
    "I = ot.Beta(2.5, 4, 310, 450)\n",
    "I.setDescription(['Inertia'])"
   ]
  },
  {
   "cell_type": "markdown",
   "metadata": {},
   "source": [
    "We now fix the order of the marginal distributions in the joint distribution. Order must match in the implementation of the physical model (to come)."
   ]
  },
  {
   "cell_type": "code",
   "execution_count": null,
   "metadata": {},
   "outputs": [],
   "source": [
    "marginal_distributions = [F, E, L, I]"
   ]
  },
  {
   "cell_type": "markdown",
   "metadata": {},
   "source": [
    "Let then define the dependence structure as a Normal copula with a single non-zero Spearman correlation between components 2 and 3 of the final random vector, that is $L$ and $I$."
   ]
  },
  {
   "cell_type": "code",
   "execution_count": null,
   "metadata": {},
   "outputs": [],
   "source": [
    "SR_cor = ot.CorrelationMatrix(len(marginal_distributions))\n",
    "SR_cor[2, 3] = -0.2\n",
    "copula = ot.NormalCopula(ot.NormalCopula.GetCorrelationFromSpearmanCorrelation(SR_cor))"
   ]
  },
  {
   "cell_type": "markdown",
   "metadata": {},
   "source": [
    "Eventually the input joint distribution is defined as a *composed distribution*."
   ]
  },
  {
   "cell_type": "code",
   "execution_count": null,
   "metadata": {},
   "outputs": [],
   "source": [
    "X_distribution = ot.ComposedDistribution(marginal_distributions, copula)"
   ]
  },
  {
   "cell_type": "markdown",
   "metadata": {},
   "source": [
    "... And let's make a *random vector* out of this distribution."
   ]
  },
  {
   "cell_type": "code",
   "execution_count": null,
   "metadata": {},
   "outputs": [],
   "source": [
    "X_random_vector = ot.RandomVector(X_distribution)"
   ]
  },
  {
   "cell_type": "markdown",
   "metadata": {},
   "source": [
    "## Limit-state function"
   ]
  },
  {
   "cell_type": "code",
   "execution_count": null,
   "metadata": {},
   "outputs": [],
   "source": [
    "model = ot.SymbolicFunction(['F', 'E', 'L', 'I'], ['F*L^3 / (3*E*I)'])"
   ]
  },
  {
   "cell_type": "code",
   "execution_count": null,
   "metadata": {},
   "outputs": [],
   "source": [
    "g = ot.MemoizeFunction(model)\n",
    "g.enableCache()"
   ]
  },
  {
   "cell_type": "code",
   "execution_count": null,
   "metadata": {},
   "outputs": [],
   "source": [
    "g.enableHistory()"
   ]
  },
  {
   "cell_type": "code",
   "execution_count": null,
   "metadata": {},
   "outputs": [],
   "source": [
    "print('Class : ', g.getClassName())\n",
    "print('Input : ', g.getDescription())\n",
    "print('Ouput : ', g.getOutputDescription())\n",
    "print('Evaluation : ', g.getEvaluation())\n",
    "print('Gradient : ', g.getGradient())\n",
    "print('Hessian : ', g.getHessian())"
   ]
  },
  {
   "cell_type": "code",
   "execution_count": null,
   "metadata": {},
   "outputs": [],
   "source": [
    "input_point = [321., 3e9, 2.5, 4e-6]\n",
    "print('Value of the function at input_point: %s' % g(input_point))\n",
    "print('Value of the gradient at input_point: %s' % g.gradient(input_point))\n",
    "print('Value of the hessian at input_point: %s' % g.hessian(input_point))"
   ]
  },
  {
   "cell_type": "markdown",
   "metadata": {},
   "source": [
    "# Output random vector"
   ]
  },
  {
   "cell_type": "code",
   "execution_count": null,
   "metadata": {},
   "outputs": [],
   "source": [
    "G = ot.CompositeRandomVector(g, X_random_vector)\n",
    "G.setDescription(['Deviation'])"
   ]
  },
  {
   "cell_type": "code",
   "execution_count": null,
   "metadata": {},
   "outputs": [],
   "source": [
    "G_sample = G.getSample(int(1e3))\n",
    "G_hist = ot.HistogramFactory().build(G_sample).drawPDF()\n",
    "G_hist.setXTitle(G.getDescription()[0])\n",
    "_ = View(G_hist, bar_kwargs={'label':'G_sample'})"
   ]
  },
  {
   "cell_type": "markdown",
   "metadata": {},
   "source": [
    "# Event"
   ]
  },
  {
   "cell_type": "code",
   "execution_count": null,
   "metadata": {},
   "outputs": [],
   "source": [
    "# event = ot.Event(G, ot.GreaterOrEqual(), 30.)\n",
    "event = ot.ThresholdEvent(G, ot.GreaterOrEqual(), 30.)\n",
    "event.setName(\"deviation > 30 cm\")"
   ]
  },
  {
   "cell_type": "markdown",
   "metadata": {},
   "source": [
    "# Estimation of the event probability using (crude) Monte Carlo sampling"
   ]
  },
  {
   "cell_type": "code",
   "execution_count": null,
   "metadata": {},
   "outputs": [],
   "source": [
    "g.clearHistory()"
   ]
  },
  {
   "cell_type": "code",
   "execution_count": null,
   "metadata": {},
   "outputs": [],
   "source": [
    "ot.RandomGenerator.SetSeed(0)"
   ]
  },
  {
   "cell_type": "code",
   "execution_count": null,
   "metadata": {},
   "outputs": [],
   "source": [
    "# create a Monte Carlo algorithm\n",
    "experiment = ot.MonteCarloExperiment()\n",
    "MCS_algorithm = ot.ProbabilitySimulationAlgorithm(event, experiment)\n",
    "MCS_algorithm.setMaximumCoefficientOfVariation(.1)\n",
    "MCS_algorithm.setMaximumOuterSampling(40000)\n",
    "MCS_algorithm.setBlockSize(100)\n",
    "MCS_algorithm.run()\n",
    "MCS_results = MCS_algorithm.getResult()\n",
    "MCS_evaluation_number = g.getInputHistory().getSize()"
   ]
  },
  {
   "cell_type": "code",
   "execution_count": null,
   "metadata": {},
   "outputs": [],
   "source": [
    "print('Probability estimate: %.3e' % MCS_results.getProbabilityEstimate())\n",
    "print('Coefficient of variation: %.2f' % MCS_results.getCoefficientOfVariation())\n",
    "print('Number of evaluations: %d' % MCS_evaluation_number)"
   ]
  },
  {
   "cell_type": "code",
   "execution_count": null,
   "metadata": {},
   "outputs": [],
   "source": [
    "confidence_level = .9\n",
    "MCS_convergence_graph = MCS_algorithm.drawProbabilityConvergence(confidence_level)\n",
    "_ = View(MCS_convergence_graph).show()"
   ]
  },
  {
   "cell_type": "markdown",
   "metadata": {},
   "source": [
    "# *Most-probable-failure-point*-based approaches"
   ]
  },
  {
   "cell_type": "markdown",
   "metadata": {},
   "source": [
    "## Search for the *most probable failure point* (MPFP)"
   ]
  },
  {
   "cell_type": "code",
   "execution_count": null,
   "metadata": {},
   "outputs": [],
   "source": [
    "mpfp_search_algorithm = ot.AbdoRackwitz() # Alternatives: ot.AbdoRackwitz(), ot.Cobyla()\n",
    "mpfp_search_algorithm.setMaximumIterationNumber(int(1e3))\n",
    "mpfp_search_algorithm.setMaximumAbsoluteError(1e-10)\n",
    "mpfp_search_algorithm.setMaximumRelativeError(1e-10)\n",
    "mpfp_search_algorithm.setMaximumResidualError(1e-10)\n",
    "mpfp_search_algorithm.setMaximumConstraintError(1e-10)\n",
    "print(mpfp_search_algorithm)"
   ]
  },
  {
   "cell_type": "markdown",
   "metadata": {},
   "source": [
    "## *First-order-reliability-method* (FORM)"
   ]
  },
  {
   "cell_type": "code",
   "execution_count": null,
   "metadata": {},
   "outputs": [],
   "source": [
    "g.clearHistory()"
   ]
  },
  {
   "cell_type": "code",
   "execution_count": null,
   "metadata": {},
   "outputs": [],
   "source": [
    "FORM_algorithm = ot.FORM(mpfp_search_algorithm,\n",
    "                         event,\n",
    "                         X_distribution.getMean())\n",
    "FORM_algorithm.run()\n",
    "FORM_result = FORM_algorithm.getResult()"
   ]
  },
  {
   "cell_type": "code",
   "execution_count": null,
   "metadata": {},
   "outputs": [],
   "source": [
    "mpfp_search_result = FORM_result.getOptimizationResult()\n",
    "_ = View(mpfp_search_result.drawErrorHistory())"
   ]
  },
  {
   "cell_type": "code",
   "execution_count": null,
   "metadata": {},
   "outputs": [],
   "source": [
    "print(\"Standard space design point: %s\" % FORM_result.getStandardSpaceDesignPoint())\n",
    "print(\"Physical space design point: %s\" % FORM_result.getPhysicalSpaceDesignPoint())\n",
    "print(\"Hasofer-Lind reliability index: %.2f\" % FORM_result.getHasoferReliabilityIndex())\n",
    "print(\"First-order approximation of the event probability: %.3e\" % FORM_result.getEventProbability())\n",
    "print(\"Number of evaluations of the limit-state function: %s\" % g.getInputHistory().getSize())"
   ]
  },
  {
   "cell_type": "code",
   "execution_count": null,
   "metadata": {},
   "outputs": [],
   "source": [
    "_ = View(FORM_result.drawImportanceFactors())"
   ]
  },
  {
   "cell_type": "markdown",
   "metadata": {},
   "source": [
    "## *Second-order reliability method* (SORM)"
   ]
  },
  {
   "cell_type": "code",
   "execution_count": null,
   "metadata": {},
   "outputs": [],
   "source": [
    "g.clearHistory()"
   ]
  },
  {
   "cell_type": "code",
   "execution_count": null,
   "metadata": {},
   "outputs": [],
   "source": [
    "SORM_algo = ot.SORM(mpfp_search_algorithm, event, FORM_result.getPhysicalSpaceDesignPoint())\n",
    "SORM_algo.run()\n",
    "SORM_result = SORM_algo.getResult()"
   ]
  },
  {
   "cell_type": "code",
   "execution_count": null,
   "metadata": {},
   "outputs": [],
   "source": [
    "print(\"Breitung reliability index: %.2f\" % SORM_result.getGeneralisedReliabilityIndexBreitung())\n",
    "print(\"Breitung second-order approximation of the probability: %.3e\" % SORM_result.getEventProbabilityBreitung())\n",
    "print(\"Number of evaluations of the limit-state function: %s\" % g.getInputHistory().getSize())"
   ]
  },
  {
   "cell_type": "markdown",
   "metadata": {},
   "source": [
    "# *Most-probable-failure-point*-based importance sampling"
   ]
  },
  {
   "cell_type": "code",
   "execution_count": null,
   "metadata": {},
   "outputs": [],
   "source": [
    "g.clearHistory()"
   ]
  },
  {
   "cell_type": "code",
   "execution_count": null,
   "metadata": {},
   "outputs": [],
   "source": [
    "instrumental_distribution = ot.Normal(FORM_result.getStandardSpaceDesignPoint(),\n",
    "                                      ot.CovarianceMatrix(X_distribution.getDimension()))\n",
    "IS_experiment = ot.ImportanceSamplingExperiment(instrumental_distribution)\n",
    "IS_algorithm = ot.ProbabilitySimulationAlgorithm(ot.StandardEvent(event),\n",
    "                                                 IS_experiment)\n",
    "IS_algorithm.setMaximumOuterSampling(40000)\n",
    "IS_algorithm.setBlockSize(1)\n",
    "IS_algorithm.setMaximumCoefficientOfVariation(.1)\n",
    "IS_algorithm.run()\n",
    "IS_result = IS_algorithm.getResult()"
   ]
  },
  {
   "cell_type": "code",
   "execution_count": null,
   "metadata": {},
   "outputs": [],
   "source": [
    "print(\"Probability estimate: %.3e\" % IS_result.getProbabilityEstimate())\n",
    "print(\"Coefficient of variation: %.2f\" % IS_result.getCoefficientOfVariation())\n",
    "print(\"Number of evaluations: %d\" % g.getInputHistory().getSize())"
   ]
  },
  {
   "cell_type": "code",
   "execution_count": null,
   "metadata": {},
   "outputs": [],
   "source": [
    "confidence_level = 0.9\n",
    "IS_convergence_graph = IS_algorithm.drawProbabilityConvergence(confidence_level)\n",
    "_ = View(IS_convergence_graph)"
   ]
  },
  {
   "cell_type": "markdown",
   "metadata": {},
   "source": [
    "# Directional sampling"
   ]
  },
  {
   "cell_type": "code",
   "execution_count": null,
   "metadata": {},
   "outputs": [],
   "source": [
    "g.clearHistory()"
   ]
  },
  {
   "cell_type": "code",
   "execution_count": null,
   "metadata": {},
   "outputs": [],
   "source": [
    "root_strategy = ot.RiskyAndFast() # Alternatives : ot.SafeAndSlow(), ot.MediumSafe(), ot.RiskyAndFast()\n",
    "root_strategy.setSolver(ot.Brent()) # Alternatives : ot.Bisection(), ot.Secant(), ot.Brent()"
   ]
  },
  {
   "cell_type": "code",
   "execution_count": null,
   "metadata": {},
   "outputs": [],
   "source": [
    "sampling_strategy = ot.RandomDirection() # Alternatives : ot.RandomDirection(), ot.OrthogonalDirection()\n",
    "sampling_strategy.setDimension(X_distribution.getDimension())"
   ]
  },
  {
   "cell_type": "code",
   "execution_count": null,
   "metadata": {},
   "outputs": [],
   "source": [
    "ot.RandomGenerator.SetSeed(0)"
   ]
  },
  {
   "cell_type": "code",
   "execution_count": null,
   "metadata": {},
   "outputs": [],
   "source": [
    "DS_algorithm = ot.DirectionalSampling(event)\n",
    "DS_algorithm.setMaximumCoefficientOfVariation(.1)\n",
    "DS_algorithm.setMaximumOuterSampling(10000)\n",
    "DS_algorithm.setBlockSize(1)\n",
    "DS_algorithm.setRootStrategy(root_strategy)\n",
    "DS_algorithm.setSamplingStrategy(sampling_strategy)\n",
    "DS_algorithm.run()\n",
    "DS_result = DS_algorithm.getResult()"
   ]
  },
  {
   "cell_type": "code",
   "execution_count": null,
   "metadata": {},
   "outputs": [],
   "source": [
    "print(\"Probability estimate:     %.3e\" % DS_result.getProbabilityEstimate())\n",
    "print(\"Coefficient of variation: %.2f\" % DS_result.getCoefficientOfVariation())\n",
    "print(\"Number of evaluations:    %d\" % g.getInputHistory().getSize())"
   ]
  },
  {
   "cell_type": "code",
   "execution_count": null,
   "metadata": {},
   "outputs": [],
   "source": [
    "confidence_level = .9\n",
    "DS_convergence_graph = DS_algorithm.drawProbabilityConvergence(confidence_level)\n",
    "_ = View(DS_convergence_graph).show()"
   ]
  },
  {
   "cell_type": "code",
   "execution_count": null,
   "metadata": {},
   "outputs": [],
   "source": []
  }
 ],
 "metadata": {
  "kernelspec": {
   "display_name": "Python 3",
   "language": "python",
   "name": "python3"
  },
  "language_info": {
   "codemirror_mode": {
    "name": "ipython",
    "version": 3
   },
   "file_extension": ".py",
   "mimetype": "text/x-python",
   "name": "python",
   "nbconvert_exporter": "python",
   "pygments_lexer": "ipython3",
   "version": "3.7.6"
  }
 },
 "nbformat": 4,
 "nbformat_minor": 1
}
