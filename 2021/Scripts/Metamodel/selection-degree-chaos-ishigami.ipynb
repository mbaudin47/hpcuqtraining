{
 "cells": [
  {
   "cell_type": "markdown",
   "id": "expanded-density",
   "metadata": {},
   "source": [
    "# Sélection du degré du polynôme du chaos dans le modèle d'Ishigami"
   ]
  },
  {
   "cell_type": "code",
   "execution_count": 1,
   "id": "utility-porter",
   "metadata": {},
   "outputs": [],
   "source": [
    "import openturns as ot\n",
    "import openturns.viewer as otv\n",
    "import pylab as pl\n",
    "import numpy as np"
   ]
  },
  {
   "cell_type": "code",
   "execution_count": 2,
   "id": "super-cannon",
   "metadata": {},
   "outputs": [],
   "source": [
    "from openturns.usecases import ishigami_function as ishigami_function"
   ]
  },
  {
   "cell_type": "code",
   "execution_count": 3,
   "id": "statutory-williams",
   "metadata": {},
   "outputs": [],
   "source": [
    "im = ishigami_function.IshigamiModel()"
   ]
  },
  {
   "cell_type": "code",
   "execution_count": 4,
   "id": "emerging-wayne",
   "metadata": {},
   "outputs": [
    {
     "data": {
      "text/html": [
       "<p>ComposedDistribution(Uniform(a = -3.14159, b = 3.14159), Uniform(a = -3.14159, b = 3.14159), Uniform(a = -3.14159, b = 3.14159), IndependentCopula(dimension = 3))</p>"
      ],
      "text/plain": [
       "class=ComposedDistribution name=ComposedDistribution dimension=3 copula=class=IndependentCopula name=IndependentCopula dimension=3 marginal[0]=class=Uniform name=X1 dimension=1 a=-3.14159 b=3.14159 marginal[1]=class=Uniform name=X2 dimension=1 a=-3.14159 b=3.14159 marginal[2]=class=Uniform name=X1 dimension=1 a=-3.14159 b=3.14159"
      ]
     },
     "execution_count": 4,
     "metadata": {},
     "output_type": "execute_result"
    }
   ],
   "source": [
    "im.distributionX"
   ]
  },
  {
   "cell_type": "code",
   "execution_count": 5,
   "id": "fantastic-paragraph",
   "metadata": {},
   "outputs": [
    {
     "data": {
      "text/html": [
       "<p>ParametricEvaluation([X1,X2,X3,a,b]->[sin(X1) + a * sin(X2)^2 + b * X3^4 * sin(X1)], parameters positions=[3,4], parameters=[a : 7, b : 0.1], input positions=[0,1,2])</p>"
      ],
      "text/plain": [
       "class=FunctionImplementation name=Unnamed description=[X1,X2,X3,y0] evaluationImplementation=class=ParametricEvaluation function=class=Function name=Unnamed implementation=class=FunctionImplementation name=Unnamed description=[X1,X2,X3,a,b,y0] evaluationImplementation=class=SymbolicEvaluation name=Unnamed inputVariablesNames=[X1,X2,X3,a,b] outputVariablesNames=[y0] formulas=[sin(X1) + a * sin(X2)^2 + b * X3^4 * sin(X1)] gradientImplementation=class=SymbolicGradient name=Unnamed evaluation=class=SymbolicEvaluation name=Unnamed inputVariablesNames=[X1,X2,X3,a,b] outputVariablesNames=[y0] formulas=[sin(X1) + a * sin(X2)^2 + b * X3^4 * sin(X1)] hessianImplementation=class=SymbolicHessian name=Unnamed evaluation=class=SymbolicEvaluation name=Unnamed inputVariablesNames=[X1,X2,X3,a,b] outputVariablesNames=[y0] formulas=[sin(X1) + a * sin(X2)^2 + b * X3^4 * sin(X1)] parameters positions=[3,4] parameters=class=PointWithDescription name=Unnamed dimension=2 description=[a,b] values=[7,0.1] input positions=[0,1,2] gradientImplementation=class=ParametricGradient evaluation=class=ParametricEvaluation function=class=Function name=Unnamed implementation=class=FunctionImplementation name=Unnamed description=[X1,X2,X3,a,b,y0] evaluationImplementation=class=SymbolicEvaluation name=Unnamed inputVariablesNames=[X1,X2,X3,a,b] outputVariablesNames=[y0] formulas=[sin(X1) + a * sin(X2)^2 + b * X3^4 * sin(X1)] gradientImplementation=class=SymbolicGradient name=Unnamed evaluation=class=SymbolicEvaluation name=Unnamed inputVariablesNames=[X1,X2,X3,a,b] outputVariablesNames=[y0] formulas=[sin(X1) + a * sin(X2)^2 + b * X3^4 * sin(X1)] hessianImplementation=class=SymbolicHessian name=Unnamed evaluation=class=SymbolicEvaluation name=Unnamed inputVariablesNames=[X1,X2,X3,a,b] outputVariablesNames=[y0] formulas=[sin(X1) + a * sin(X2)^2 + b * X3^4 * sin(X1)] parameters positions=[3,4] parameters=class=PointWithDescription name=Unnamed dimension=2 description=[a,b] values=[7,0.1] input positions=[0,1,2] hessianImplementation=class=ParametricHessian evaluation=class=ParametricEvaluation function=class=Function name=Unnamed implementation=class=FunctionImplementation name=Unnamed description=[X1,X2,X3,a,b,y0] evaluationImplementation=class=SymbolicEvaluation name=Unnamed inputVariablesNames=[X1,X2,X3,a,b] outputVariablesNames=[y0] formulas=[sin(X1) + a * sin(X2)^2 + b * X3^4 * sin(X1)] gradientImplementation=class=SymbolicGradient name=Unnamed evaluation=class=SymbolicEvaluation name=Unnamed inputVariablesNames=[X1,X2,X3,a,b] outputVariablesNames=[y0] formulas=[sin(X1) + a * sin(X2)^2 + b * X3^4 * sin(X1)] hessianImplementation=class=SymbolicHessian name=Unnamed evaluation=class=SymbolicEvaluation name=Unnamed inputVariablesNames=[X1,X2,X3,a,b] outputVariablesNames=[y0] formulas=[sin(X1) + a * sin(X2)^2 + b * X3^4 * sin(X1)] parameters positions=[3,4] parameters=class=PointWithDescription name=Unnamed dimension=2 description=[a,b] values=[7,0.1] input positions=[0,1,2]"
      ]
     },
     "execution_count": 5,
     "metadata": {},
     "output_type": "execute_result"
    }
   ],
   "source": [
    "im.model"
   ]
  },
  {
   "cell_type": "code",
   "execution_count": 6,
   "id": "minute-treasurer",
   "metadata": {},
   "outputs": [],
   "source": [
    "def ComputeSparseLeastSquaresChaos(\n",
    "    inputTrain, outputTrain, multivariateBasis, totalDegree, myDistribution\n",
    "):\n",
    "    \"\"\"\n",
    "    Create a sparse polynomial chaos with least squares.\n",
    "\n",
    "    * Uses the enumeration rule from multivariateBasis.\n",
    "    * Uses LeastSquaresStrategy to compute the coefficients from\n",
    "    linear least squares.\n",
    "    * Uses LeastSquaresMetaModelSelectionFactory to select the polynomials\n",
    "    in the basis using least angle regression stepwise (LARS)\n",
    "    * Uses LeastSquaresStrategy to compute the coefficient using \n",
    "    least squares.\n",
    "    * Uses FixedStrategy to keep all coefficients that LARS has selected,\n",
    "    up to the given maximum total degree.\n",
    "\n",
    "    Parameters\n",
    "    ----------\n",
    "    inputTrain : ot.Sample(n)\n",
    "        The input training design of experiments with n points\n",
    "    outputTrain : ot.Sample(n)\n",
    "        The input training design of experiments with n points\n",
    "    multivariateBasis : ot.Basis\n",
    "        The multivariate orthogonal polynomial basis\n",
    "    totalDegree : int\n",
    "        The maximum total polynomial degree\n",
    "    myDistribution : ot.Distribution\n",
    "        The distribution of the input random vector\n",
    "\n",
    "    Returns\n",
    "    -------\n",
    "    result : ot.FunctionalChaosResult\n",
    "        The polynomial chaos result\n",
    "    \"\"\"\n",
    "    selectionAlgorithm = ot.LeastSquaresMetaModelSelectionFactory()\n",
    "    projectionStrategy = ot.LeastSquaresStrategy(\n",
    "        inputTrain, outputTrain, selectionAlgorithm\n",
    "    )\n",
    "    enumfunc = multivariateBasis.getEnumerateFunction()\n",
    "    P = enumfunc.getStrataCumulatedCardinal(totalDegree)\n",
    "    adaptiveStrategy = ot.FixedStrategy(multivariateBasis, P)\n",
    "    chaosalgo = ot.FunctionalChaosAlgorithm(\n",
    "        inputTrain, outputTrain, myDistribution, adaptiveStrategy, projectionStrategy\n",
    "    )\n",
    "    chaosalgo.run()\n",
    "    result = chaosalgo.getResult()\n",
    "    return result"
   ]
  },
  {
   "cell_type": "code",
   "execution_count": 7,
   "id": "artistic-vampire",
   "metadata": {},
   "outputs": [],
   "source": [
    "dimension = im.distributionX.getDimension()"
   ]
  },
  {
   "cell_type": "code",
   "execution_count": 8,
   "id": "front-juice",
   "metadata": {},
   "outputs": [],
   "source": [
    "multivariateBasis = ot.OrthogonalProductPolynomialFactory(\n",
    "    [im.distributionX.getMarginal(i) for i in range(dimension)]\n",
    ")"
   ]
  },
  {
   "cell_type": "markdown",
   "id": "respective-insert",
   "metadata": {},
   "source": [
    "Generate an training sample of size N with MC simulation (or retrieve the design from experimental data)."
   ]
  },
  {
   "cell_type": "code",
   "execution_count": 9,
   "id": "temporal-convert",
   "metadata": {},
   "outputs": [],
   "source": [
    "training_sample_size = 200  # Size of the training design of experiments\n",
    "\n",
    "inputTrain = im.distributionX.getSample(training_sample_size)\n",
    "outputTrain = im.model(inputTrain)"
   ]
  },
  {
   "cell_type": "code",
   "execution_count": 10,
   "id": "elegant-miami",
   "metadata": {},
   "outputs": [],
   "source": [
    "totalDegree = 2  # Polynomial degree\n",
    "result = ComputeSparseLeastSquaresChaos(\n",
    "    inputTrain, outputTrain, multivariateBasis, totalDegree, im.distributionX\n",
    ")"
   ]
  },
  {
   "cell_type": "markdown",
   "id": "activated-collector",
   "metadata": {},
   "source": [
    "La méthode `getMetaModel` retourne une fonction permettant d'évaluer le métamodèle."
   ]
  },
  {
   "cell_type": "code",
   "execution_count": 11,
   "id": "smart-passage",
   "metadata": {},
   "outputs": [
    {
     "data": {
      "text/plain": [
       "openturns.func.Function"
      ]
     },
     "execution_count": 11,
     "metadata": {},
     "output_type": "execute_result"
    }
   ],
   "source": [
    "metamodel = result.getMetaModel()\n",
    "type(metamodel)"
   ]
  },
  {
   "cell_type": "markdown",
   "id": "civic-sport",
   "metadata": {},
   "source": [
    "## Validate the metamodel"
   ]
  },
  {
   "cell_type": "markdown",
   "id": "innocent-yield",
   "metadata": {},
   "source": [
    "Generate a validation sample (which is independent of the training sample)."
   ]
  },
  {
   "cell_type": "code",
   "execution_count": 12,
   "id": "permanent-worth",
   "metadata": {},
   "outputs": [],
   "source": [
    "test_sample_size = 200  # Size of the validation design of experiments\n",
    "inputTest = im.distributionX.getSample(test_sample_size)\n",
    "outputTest = im.model(inputTest)"
   ]
  },
  {
   "cell_type": "markdown",
   "id": "lesbian-booth",
   "metadata": {},
   "source": [
    "La classe `MetaModelValidation` permet de valider le métamodèle sur une base de validation."
   ]
  },
  {
   "cell_type": "code",
   "execution_count": 13,
   "id": "eligible-password",
   "metadata": {},
   "outputs": [],
   "source": [
    "validation = ot.MetaModelValidation(inputTest, outputTest, metamodel)"
   ]
  },
  {
   "cell_type": "markdown",
   "id": "acute-vancouver",
   "metadata": {},
   "source": [
    "Compute the $Q^2$ predictability coefficient"
   ]
  },
  {
   "cell_type": "code",
   "execution_count": 14,
   "id": "numeric-official",
   "metadata": {},
   "outputs": [
    {
     "data": {
      "text/plain": [
       "0.2009142524137396"
      ]
     },
     "execution_count": 14,
     "metadata": {},
     "output_type": "execute_result"
    }
   ],
   "source": [
    "Q2 = validation.computePredictivityFactor()[0]\n",
    "Q2"
   ]
  },
  {
   "cell_type": "markdown",
   "id": "baking-south",
   "metadata": {},
   "source": [
    "Le métamodèle est ici d'excellente qualité, puisque le $Q^2$ est supérieur à 99%. Cela signifie que moins de 1% de la variance de la sortie est perdue en substituant le métamodèle au modèle. "
   ]
  },
  {
   "cell_type": "markdown",
   "id": "romantic-water",
   "metadata": {},
   "source": [
    "Plot the observed versus the predicted outputs."
   ]
  },
  {
   "cell_type": "code",
   "execution_count": 15,
   "id": "threaded-energy",
   "metadata": {
    "scrolled": true
   },
   "outputs": [
    {
     "name": "stderr",
     "output_type": "stream",
     "text": [
      "/home/devel/miniconda3/envs/otsupgalilee/lib/python3.8/site-packages/numpy/core/getlimits.py:499: UserWarning: The value of the smallest subnormal for <class 'numpy.float64'> type is zero.\n",
      "  setattr(self, word, getattr(machar, word).flat[0])\n",
      "/home/devel/miniconda3/envs/otsupgalilee/lib/python3.8/site-packages/numpy/core/getlimits.py:89: UserWarning: The value of the smallest subnormal for <class 'numpy.float64'> type is zero.\n",
      "  return self._float_to_str(self.smallest_subnormal)\n"
     ]
    },
    {
     "data": {
      "image/png": "[encoded data removed]",
      "text/plain": [
       "class=GridLayout name=Unnamed nbRows=1 nbColumns=1 graphCollection=[class=Graph name=Unnamed implementation=class=GraphImplementation name=Unnamed title= xTitle=model 0 yTitle=metamodel axes=ON grid=ON legendposition= legendFontSize=1 drawables=[class=Drawable name=Unnamed implementation=class=Curve name=Unnamed derived from class=DrawableImplementation name=Unnamed legend= data=class=Sample name=Unnamed implementation=class=SampleImplementation name=Unnamed size=2 dimension=2 data=[[-9.85789,-9.85789],[14.5496,14.5496]] color=red fillStyle=solid lineStyle=solid pointStyle=none lineWidth=1,class=Drawable name=Unnamed implementation=class=Cloud name=Unnamed derived from class=DrawableImplementation name=Unnamed legend= data=class=Sample name=Unnamed implementation=class=SampleImplementation name=Unnamed size=200 dimension=2 data=[[5.25006,4.77193],[7.6063,3.48331],[5.30748,5.49322],[1.00043,4.78328],[0.82492,1.57088],[7.6706,4.81541],[6.97861,-0.36477],[5.58754,2.40053],[-0.0983151,0.133024],[2.87484,5.05699],[-3.39682,1.04577],[5.64961,1.9859],[-2.13156,1.07945],[-1.67784,1.90247],[4.23445,5.81812],[3.52022,3.0566],[0.846438,2.2424],[1.25582,0.651688],[6.27336,5.92516],[4.31857,6.15285],[-4.42533,2.36189],[7.68866,4.55644],[7.21254,3.41899],[1.86906,6.69311],[1.33794,4.48561],[-1.38548,1.02035],[2.64927,3.952],[2.38811,2.48744],[3.29694,0.274458],[9.52422,6.38712],[-0.857044,1.21977],[7.75132,4.17553],[1.52748,6.75214],[4.34932,1.51202],[4.11057,1.26104],[2.80777,0.843352],[3.91554,4.09538],[-2.27677,1.34639],[7.33157,6.37562],[3.4272,1.6602],[3.47011,1.8123],[1.23395,1.68589],[0.0559743,1.57955],[4.80838,3.15215],[5.50677,2.89793],[0.251705,2.34462],[4.48928,4.37687],[-0.627665,1.25147],[-3.4152,0.549811],[5.50596,2.96903],[2.50248,1.4505],[1.037,2.8126],[6.31215,-0.311654],[6.82922,-0.304634],[2.37844,4.09816],[2.59035,1.31947],[1.4988,2.53895],[7.94638,5.19394],[7.75642,3.66944],[5.4998,1.10392],[6.21598,4.98676],[1.18668,2.04734],[2.34924,0.352498],[4.83792,-0.191475],[-1.53571,0.957295],[5.37396,1.29521],[-3.50962,1.85653],[6.89789,-0.338208],[3.22243,2.57747],[8.33375,5.45701],[4.65013,3.65701],[9.35231,3.4541],[8.52705,4.61507],[-0.555742,2.05568],[4.50192,4.25035],[5.07913,-0.244066],[0.907145,1.61628],[4.36332,5.81486],[6.53933,3.75647],[7.19532,5.05858],[0.783797,7.07704],[6.10829,0.710599],[2.08103,3.70668],[-1.68157,1.8484],[6.9736,4.83208],[5.27234,0.371336],[-3.63051,0.521924],[0.425037,2.28282],[5.11424,4.46523],[3.19814,1.08204],[8.40954,6.35379],[2.55399,3.81277],[4.29433,2.39429],[-1.0508,-0.687906],[1.56046,1.58247],[5.88268,-0.0644456],[7.52365,4.77378],[6.10092,-0.115828],[7.161,6.56502],[0.612365,4.94637],[7.49959,6.18639],[3.77961,2.94956],[6.43776,4.39004],[3.12145,2.56841],[5.3371,4.18386],[7.46053,3.79223],[12.9618,4.30817],[7.70851,4.09506],[4.26553,3.67572],[6.9717,3.1291],[-0.656352,1.15546],[4.93114,2.46308],[12.5332,4.94432],[6.85959,5.74096],[-2.18358,0.754084],[4.76764,4.82369],[7.46653,4.20909],[2.68652,-0.14976],[6.99438,5.21515],[0.235325,1.85728],[4.1763,0.600301],[3.11592,1.96392],[4.15762,2.79118],[3.02359,2.8124],[2.54574,0.197514],[-1.64976,1.11589],[6.88423,3.36796],[6.22485,4.10223],[4.10467,0.215434],[5.7496,1.49964],[1.62481,2.68633],[-2.07102,0.744675],[10.7886,5.41981],[4.77279,3.03248],[3.69344,2.1491],[1.59488,6.42571],[-0.85305,1.22307],[-1.2498,1.27255],[5.3066,3.77867],[-0.552044,3.08238],[3.50163,0.671439],[5.67795,4.45672],[9.9517,5.10934],[8.16733,6.21588],[1.4652,3.00795],[10.7395,5.96154],[5.85443,1.81162],[-9.85789,2.02726],[7.97332,3.71848],[4.4508,4.06179],[5.8775,5.6501],[7.38823,5.86205],[3.5317,4.76423],[-2.08336,0.910721],[-0.0824231,1.37973],[-2.13324,2.54094],[4.48628,6.59477],[2.45383,5.80565],[1.62928,3.62025],[-2.90521,-0.313675],[1.8444,2.09244],[-1.44432,1.93452],[7.19937,5.70325],[4.9495,6.31686],[6.83771,4.26204],[4.70823,6.64685],[4.83125,2.7558],[2.58083,3.86699],[12.2156,5.13627],[0.650386,2.25754],[-4.29392,0.624572],[12.0162,3.95117],[4.76387,3.10678],[9.72108,6.53817],[7.38808,4.69221],[7.65926,3.3585],[0.40469,2.23206],[5.74088,2.14558],[-6.09902,1.16593],[8.1129,4.37741],[2.6333,4.29256],[0.574353,0.236089],[5.01898,0.900737],[-4.9088,3.01647],[5.09299,4.12572],[3.99395,5.18909],[4.49634,4.80345],[-5.70778,-0.193187],[-3.40018,1.24156],[8.64012,4.31561],[0.244388,7.06294],[5.53853,0.482076],[14.5496,4.26693],[6.07605,3.62003],[7.31663,5.16652],[1.67636,5.13885],[8.27153,4.52471],[7.66483,5.97454],[2.23828,6.60596],[12.4118,6.01876]] color=blue fillStyle=solid lineStyle=solid pointStyle=plus lineWidth=1]]"
      ]
     },
     "execution_count": 15,
     "metadata": {},
     "output_type": "execute_result"
    }
   ],
   "source": [
    "graph = validation.drawValidation()\n",
    "graph.setTitle(\"Q2=%.4f, n=%d\" % (Q2, test_sample_size))\n",
    "graph"
   ]
  },
  {
   "cell_type": "markdown",
   "id": "hired-walker",
   "metadata": {},
   "source": [
    "La fonction suivante calcule et affiche le Q2 et produit le diagramme de validation."
   ]
  },
  {
   "cell_type": "code",
   "execution_count": 16,
   "id": "removable-appointment",
   "metadata": {},
   "outputs": [],
   "source": [
    "def printQ2Chaos(multivariateBasis, chaosResult, inputTest, outputTest, totalDegree):\n",
    "    sparsityRate = computeSparsityRate(multivariateBasis, totalDegree, chaosResult)\n",
    "    metamodel = chaosResult.getMetaModel()  # get the metamodel\n",
    "    val = ot.MetaModelValidation(inputTest, outputTest, metamodel)\n",
    "    Q2 = val.computePredictivityFactor()[0]\n",
    "    Q2 = max(Q2, 0.0)\n",
    "    grid = val.drawValidation()\n",
    "    graph = grid.getGraph(0, 0)\n",
    "    legend1 = \"D=%d, Q2=%.0f%%\" % (totalDegree, 100 * Q2)\n",
    "    graph.setLegends([\"\", legend1])\n",
    "    graph.setLegendPosition(\"topleft\")\n",
    "    grid.setGraph(0, 0, graph)\n",
    "    print(\n",
    "        \"Degree=%d, Q2=%.2f%%, Sparsity=%.2f%%\"\n",
    "        % (totalDegree, 100 * Q2, 100 * sparsityRate)\n",
    "    )\n",
    "    return graph"
   ]
  },
  {
   "cell_type": "code",
   "execution_count": 17,
   "id": "positive-florida",
   "metadata": {},
   "outputs": [],
   "source": [
    "def computeSparsityRate(multivariateBasis, totalDegree, chaosResult):\n",
    "    \"\"\"Compute the sparsity rate, assuming a FixedStrategy.\"\"\"\n",
    "    # Get P, the maximum possible number of coefficients\n",
    "    enumfunc = multivariateBasis.getEnumerateFunction()\n",
    "    P = enumfunc.getStrataCumulatedCardinal(totalDegree)\n",
    "    # Get number of coefficients in the selection\n",
    "    indices = chaosResult.getIndices()\n",
    "    nbcoeffs = indices.getSize()\n",
    "    # Compute rate\n",
    "    sparsityRate = nbcoeffs / P\n",
    "    return sparsityRate"
   ]
  },
  {
   "cell_type": "code",
   "execution_count": 18,
   "id": "blessed-phase",
   "metadata": {},
   "outputs": [],
   "source": [
    "def computeQ2Chaos(chaosResult, inputTest, outputTest):\n",
    "    \"\"\"Compute the Q2 of a chaos\"\"\"\n",
    "    metamodel = chaosResult.getMetaModel()\n",
    "    val = ot.MetaModelValidation(inputTest, outputTest, metamodel)\n",
    "    Q2 = val.computePredictivityFactor()[0]\n",
    "    Q2 = max(Q2, 0.0)\n",
    "    return Q2"
   ]
  },
  {
   "cell_type": "code",
   "execution_count": 19,
   "id": "temporal-baseball",
   "metadata": {},
   "outputs": [
    {
     "name": "stdout",
     "output_type": "stream",
     "text": [
      "Degree=1, Q2=17.68%, Sparsity=50.00%\n",
      "Degree=2, Q2=20.09%, Sparsity=30.00%\n",
      "Degree=3, Q2=54.37%, Sparsity=25.00%\n",
      "Degree=4, Q2=77.55%, Sparsity=17.14%\n",
      "Degree=5, Q2=86.76%, Sparsity=16.07%\n"
     ]
    },
    {
     "data": {
      "image/png": "[encoded data removed]",
      "text/plain": [
       "<Figure size 1080x216 with 5 Axes>"
      ]
     },
     "metadata": {
      "needs_background": "light"
     },
     "output_type": "display_data"
    }
   ],
   "source": [
    "ot.RandomGenerator.SetSeed(0)\n",
    "maxDegree = 6\n",
    "inputTrain = im.distributionX.getSample(training_sample_size)\n",
    "outputTrain = im.model(inputTrain)\n",
    "inputTest = im.distributionX.getSample(test_sample_size)\n",
    "outputTest = im.model(inputTest)\n",
    "fig = pl.figure(figsize=(15.0, 3.0))\n",
    "for totalDegree in range(1, maxDegree):\n",
    "    chaosResult = ComputeSparseLeastSquaresChaos(\n",
    "        inputTrain, outputTrain, multivariateBasis, totalDegree, im.distributionX\n",
    "    )\n",
    "    graph = printQ2Chaos(\n",
    "        multivariateBasis, chaosResult, inputTest, outputTest, totalDegree\n",
    "    )\n",
    "    if totalDegree > 1:\n",
    "        graph.setYTitle(\"\")\n",
    "    ax = fig.add_subplot(1, maxDegree - 1, totalDegree)\n",
    "    _ = ot.viewer.View(graph, figure=fig, axes=[ax])"
   ]
  },
  {
   "cell_type": "markdown",
   "id": "optional-electricity",
   "metadata": {},
   "source": [
    "Répétons l'expérience pour observer la variabilité du Q2."
   ]
  },
  {
   "cell_type": "code",
   "execution_count": 20,
   "id": "interstate-artist",
   "metadata": {},
   "outputs": [],
   "source": [
    "def computeSampleQ2(\n",
    "    training_sample_size,\n",
    "    test_sample_size,\n",
    "    numberAttempts,\n",
    "    maxDegree,\n",
    "    input_distribution,\n",
    "    model,\n",
    "):\n",
    "    \"\"\"\n",
    "    Compute repetitions of the predictability coefficient for different polynomial degrees.\n",
    "\n",
    "    For a given sample size equal to training_sample_size,\n",
    "    for degree from 1 to maxDegree,\n",
    "    repeat the following experiment numberAttempts times:\n",
    "\n",
    "    * create a sparse least squares chaos\n",
    "    * compute the Q2 using a sample size equal to test_sample_size\n",
    "\n",
    "    Parameters\n",
    "    ----------\n",
    "    training_sample_size : int\n",
    "        The size of the training sample.\n",
    "    test_sample_size : int\n",
    "        The size of the test sample\n",
    "    numberAttempts : int\n",
    "        The number of repetitions.\n",
    "    maxDegree : int\n",
    "        The maximum polynomial degree.\n",
    "    input_distribution : ot.Distribution\n",
    "        The input distribution of the model.\n",
    "    model : ot.Function\n",
    "        The function.\n",
    "\n",
    "    Returns\n",
    "    -------\n",
    "    Q2sample : ot.Sample(numberAttempts, maxDegree)\n",
    "        The value of the predictability coefficient for each repetition, for each degree.\n",
    "    \"\"\"\n",
    "    Q2sample = ot.Sample(numberAttempts, maxDegree)\n",
    "    for totalDegree in range(1, maxDegree + 1):\n",
    "        print(\"Degree = %d\" % (totalDegree))\n",
    "        for i in range(numberAttempts):\n",
    "            inputTrain = input_distribution.getSample(training_sample_size)\n",
    "            outputTrain = model(inputTrain)\n",
    "            inputTest = input_distribution.getSample(test_sample_size)\n",
    "            outputTest = model(inputTest)\n",
    "            chaosResult = ComputeSparseLeastSquaresChaos(\n",
    "                inputTrain,\n",
    "                outputTrain,\n",
    "                multivariateBasis,\n",
    "                totalDegree,\n",
    "                input_distribution,\n",
    "            )\n",
    "            Q2sample[i, totalDegree - 1] = computeQ2Chaos(\n",
    "                chaosResult, inputTest, outputTest\n",
    "            )\n",
    "    return Q2sample"
   ]
  },
  {
   "cell_type": "code",
   "execution_count": 21,
   "id": "alpine-radiation",
   "metadata": {},
   "outputs": [],
   "source": [
    "def plotQ2Boxplots(Q2sample, training_sample_size):\n",
    "    \"\"\"\n",
    "    Plot the Q2 as a boxplot.\n",
    "\n",
    "    Parameters\n",
    "    ----------\n",
    "    Q2sample : ot.Sample(numberAttempts, maxDegree)\n",
    "        The value of the predictability coefficient for each repetition, for each degree.\n",
    "    training_sample_size : int\n",
    "        The size of the training sample.\n",
    "\n",
    "    Returns\n",
    "    -------\n",
    "    figure : pl.boxplot\n",
    "        The boxplot showing the Q2 depending on the polynomial degree.\n",
    "    \"\"\"\n",
    "    data = np.array(Q2sample)\n",
    "    fig = pl.figure()\n",
    "    pl.boxplot(data)\n",
    "    pl.xlabel(\"Degree\")\n",
    "    pl.ylabel(\"Q2 (%)\")\n",
    "    return fig"
   ]
  },
  {
   "cell_type": "code",
   "execution_count": 22,
   "id": "unique-lemon",
   "metadata": {
    "scrolled": true
   },
   "outputs": [
    {
     "name": "stdout",
     "output_type": "stream",
     "text": [
      "Degree = 1\n",
      "Degree = 2\n",
      "Degree = 3\n",
      "Degree = 4\n",
      "Degree = 5\n",
      "Degree = 6\n",
      "Degree = 7\n",
      "Degree = 8\n"
     ]
    },
    {
     "data": {
      "image/png": "[encoded data removed]",
      "text/plain": [
       "<Figure size 432x288 with 1 Axes>"
      ]
     },
     "metadata": {
      "needs_background": "light"
     },
     "output_type": "display_data"
    }
   ],
   "source": [
    "training_sample_size = 200  # Size of the training design of experiments\n",
    "test_sample_size = 200\n",
    "numberAttempts = 4  # 10  for real simulations\n",
    "maxDegree = 4  # 8 for real simulations\n",
    "Q2sample = computeSampleQ2(\n",
    "    training_sample_size,\n",
    "    test_sample_size,\n",
    "    numberAttempts,\n",
    "    maxDegree,\n",
    "    im.distributionX,\n",
    "    im.model,\n",
    ")\n",
    "_ = plotQ2Boxplots(Q2sample, training_sample_size)\n",
    "\n",
    "pl.title(\"Sparse polynomial chaos. Training sample size =%d\" % (training_sample_size))\n",
    "_.savefig(\"chaos-ishigami-N%d-various-degrees.pdf\" % (training_sample_size))"
   ]
  },
  {
   "cell_type": "code",
   "execution_count": null,
   "id": "graphic-might",
   "metadata": {},
   "outputs": [],
   "source": []
  }
 ],
 "metadata": {
  "kernelspec": {
   "display_name": "Python 3",
   "language": "python",
   "name": "python3"
  },
  "language_info": {
   "codemirror_mode": {
    "name": "ipython",
    "version": 3
   },
   "file_extension": ".py",
   "mimetype": "text/x-python",
   "name": "python",
   "nbconvert_exporter": "python",
   "pygments_lexer": "ipython3",
   "version": "3.8.10"
  }
 },
 "nbformat": 4,
 "nbformat_minor": 5
}
